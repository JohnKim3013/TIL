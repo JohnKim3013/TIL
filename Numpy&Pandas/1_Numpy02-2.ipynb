{
 "cells": [
  {
   "cell_type": "code",
   "execution_count": 2,
   "id": "61927e6e",
   "metadata": {},
   "outputs": [],
   "source": [
    "import numpy as np"
   ]
  },
  {
   "cell_type": "markdown",
   "id": "bcb11a24",
   "metadata": {},
   "source": [
    "## 행렬 연산\n",
    "\n",
    "- 선형 대수(Linear algebra)를 위한 행렬(2차원 배열) 연산\n",
    "- 행렬 곱, 전치 행렬, 역행렬, 행렬식 등\n",
    "\n",
    "    - 행렬곱(matrix product)  : A.dot(B) 혹은 np.dot(A,B)\n",
    "    - 전치행렬(transpose matrix) : A.transpose() 혹은 np.transpose(A)\n",
    "    - 역행렬(inverse matrix) : np.linalg.inv(A)\n",
    "    - 행렬식(determinant) : np.linalg.det(A)"
   ]
  },
  {
   "cell_type": "code",
   "execution_count": 4,
   "id": "1c481d0c",
   "metadata": {},
   "outputs": [
    {
     "data": {
      "text/plain": [
       "array([[1, 2],\n",
       "       [3, 4]])"
      ]
     },
     "execution_count": 4,
     "metadata": {},
     "output_type": "execute_result"
    }
   ],
   "source": [
    "A = np.arange(1,5).reshape(2,2)\n",
    "# A = np.array([[1,2],[3,4]])\n",
    "# A = np.array([1,2,3,4]).reshape(2,2)\n",
    "A"
   ]
  },
  {
   "cell_type": "code",
   "execution_count": 6,
   "id": "f82faf22",
   "metadata": {},
   "outputs": [
    {
     "data": {
      "text/plain": [
       "array([[3, 2],\n",
       "       [0, 1]])"
      ]
     },
     "execution_count": 6,
     "metadata": {},
     "output_type": "execute_result"
    }
   ],
   "source": [
    "B = np.array([3,2,0,1]).reshape(2,2)\n",
    "B"
   ]
  },
  {
   "cell_type": "markdown",
   "id": "9d02269a",
   "metadata": {},
   "source": [
    "**행렬의 곱**"
   ]
  },
  {
   "cell_type": "code",
   "execution_count": 7,
   "id": "a72fb3e3",
   "metadata": {},
   "outputs": [
    {
     "data": {
      "text/plain": [
       "array([[ 3,  4],\n",
       "       [ 9, 10]])"
      ]
     },
     "execution_count": 7,
     "metadata": {},
     "output_type": "execute_result"
    }
   ],
   "source": [
    "#행렬의 곱\n",
    "A.dot(B)"
   ]
  },
  {
   "cell_type": "code",
   "execution_count": 8,
   "id": "98eddfa0",
   "metadata": {},
   "outputs": [
    {
     "data": {
      "text/plain": [
       "array([[ 3,  4],\n",
       "       [ 9, 10]])"
      ]
     },
     "execution_count": 8,
     "metadata": {},
     "output_type": "execute_result"
    }
   ],
   "source": [
    "np.dot(A,B)"
   ]
  },
  {
   "cell_type": "markdown",
   "id": "9968dbab",
   "metadata": {},
   "source": [
    "**전치행렬**"
   ]
  },
  {
   "cell_type": "code",
   "execution_count": 11,
   "id": "aee1355f",
   "metadata": {},
   "outputs": [
    {
     "data": {
      "text/plain": [
       "array([[1, 3],\n",
       "       [2, 4]])"
      ]
     },
     "execution_count": 11,
     "metadata": {},
     "output_type": "execute_result"
    }
   ],
   "source": [
    "A.transpose()"
   ]
  },
  {
   "cell_type": "code",
   "execution_count": 12,
   "id": "346aafd1",
   "metadata": {},
   "outputs": [
    {
     "data": {
      "text/plain": [
       "array([[1, 3],\n",
       "       [2, 4]])"
      ]
     },
     "execution_count": 12,
     "metadata": {},
     "output_type": "execute_result"
    }
   ],
   "source": [
    "np.transpose(A)"
   ]
  },
  {
   "cell_type": "markdown",
   "id": "16883fcf",
   "metadata": {},
   "source": [
    "**역행렬**"
   ]
  },
  {
   "cell_type": "code",
   "execution_count": 13,
   "id": "756cc12c",
   "metadata": {},
   "outputs": [
    {
     "data": {
      "text/plain": [
       "array([[-2. ,  1. ],\n",
       "       [ 1.5, -0.5]])"
      ]
     },
     "execution_count": 13,
     "metadata": {},
     "output_type": "execute_result"
    }
   ],
   "source": [
    "#역행렬(inverse)\n",
    "np.linalg.inv(A)"
   ]
  },
  {
   "cell_type": "code",
   "execution_count": 14,
   "id": "3043bd96",
   "metadata": {},
   "outputs": [
    {
     "data": {
      "text/plain": [
       "-2.0000000000000004"
      ]
     },
     "execution_count": 14,
     "metadata": {},
     "output_type": "execute_result"
    }
   ],
   "source": [
    "# 행렬식(determinanat)\n",
    "np.linalg.det(A)"
   ]
  },
  {
   "cell_type": "code",
   "execution_count": 15,
   "id": "aca26669",
   "metadata": {},
   "outputs": [
    {
     "data": {
      "text/plain": [
       "array([[1.00000000e+00, 1.11022302e-16],\n",
       "       [0.00000000e+00, 1.00000000e+00]])"
      ]
     },
     "execution_count": 15,
     "metadata": {},
     "output_type": "execute_result"
    }
   ],
   "source": [
    "# A * inv(A) = l (단위행렬)\n",
    "np.dot(A,np.linalg.inv(A))"
   ]
  },
  {
   "cell_type": "markdown",
   "id": "b75894bb",
   "metadata": {},
   "source": [
    "## Array 인덱싱(indexing)과 슬라이싱(Slicing)\n",
    "\n",
    "- 인덱싱(indexing) : 배열의 위치나 조건을 지정해 배열의 원소를 선택하는 것\n",
    "- 슬라이싱(slicing) : 범위를 지정해 배열의 원소를 선택하는 것\n",
    "    - : 연산자를 주로 사용"
   ]
  },
  {
   "cell_type": "markdown",
   "id": "29e36723",
   "metadata": {},
   "source": [
    "### 1차원 배열의 인덱싱\n",
    "\n",
    "**배열명[위치]**\n",
    "\n",
    "\n",
    "- 파이썬의 인덱싱과 동일\n",
    "- 0번째로 시작함"
   ]
  },
  {
   "cell_type": "code",
   "execution_count": 17,
   "id": "eb426cf3",
   "metadata": {},
   "outputs": [
    {
     "data": {
      "text/plain": [
       "array([0, 1, 2, 3, 4, 5, 6, 7, 8, 9])"
      ]
     },
     "execution_count": 17,
     "metadata": {},
     "output_type": "execute_result"
    }
   ],
   "source": [
    "arr1 = np.arange(10)\n",
    "arr1"
   ]
  },
  {
   "cell_type": "code",
   "execution_count": 18,
   "id": "00ab1f46",
   "metadata": {},
   "outputs": [
    {
     "data": {
      "text/plain": [
       "0"
      ]
     },
     "execution_count": 18,
     "metadata": {},
     "output_type": "execute_result"
    }
   ],
   "source": [
    "# 0번째 요소\n",
    "arr1[0]"
   ]
  },
  {
   "cell_type": "code",
   "execution_count": 19,
   "id": "861b4021",
   "metadata": {},
   "outputs": [
    {
     "data": {
      "text/plain": [
       "3"
      ]
     },
     "execution_count": 19,
     "metadata": {},
     "output_type": "execute_result"
    }
   ],
   "source": [
    "# 3번째 요소\n",
    "arr1[3]"
   ]
  },
  {
   "cell_type": "markdown",
   "id": "3494370b",
   "metadata": {},
   "source": [
    "**배열명[[위치1, 위치2, ... ,위치n]]** "
   ]
  },
  {
   "cell_type": "code",
   "execution_count": 20,
   "id": "cdd3dd99",
   "metadata": {},
   "outputs": [
    {
     "data": {
      "text/plain": [
       "array([1, 3, 4])"
      ]
     },
     "execution_count": 20,
     "metadata": {},
     "output_type": "execute_result"
    }
   ],
   "source": [
    "# 1, 3, 4, 위치 : \n",
    "# shape : (m, ) => 1차원, (m, n) => 2차원,  (m, n, p) => 3차원\n",
    "# 인덱스 [ ]  : [m] => 1차원,  [m,n] => 2차원,  [m,n,p] => 3차원\n",
    "# arr1[[1,3,4] => 3차원 배열의 위치 1면 3행 4열\n",
    "# 여러 인덱스의 요소들을 지정 : 리스트로 주어야 한다\n",
    "arr1[[1,3,4]]"
   ]
  },
  {
   "cell_type": "markdown",
   "id": "6185a348",
   "metadata": {},
   "source": [
    "### 2차원 배열의 인덱싱\n",
    "**배열명[행위치, 열위치]**"
   ]
  },
  {
   "cell_type": "code",
   "execution_count": 23,
   "id": "fa2b4d9c",
   "metadata": {},
   "outputs": [
    {
     "data": {
      "text/plain": [
       "array([[ 1,  2,  3,  4],\n",
       "       [ 5,  6,  7,  8],\n",
       "       [ 9, 10, 11, 12]])"
      ]
     },
     "execution_count": 23,
     "metadata": {},
     "output_type": "execute_result"
    }
   ],
   "source": [
    "arr2 = np.arange(1,13).reshape(3,4)\n",
    "arr2"
   ]
  },
  {
   "cell_type": "code",
   "execution_count": 31,
   "id": "dc6b8d18",
   "metadata": {},
   "outputs": [
    {
     "data": {
      "text/plain": [
       "12"
      ]
     },
     "execution_count": 31,
     "metadata": {},
     "output_type": "execute_result"
    }
   ],
   "source": [
    "# 2차원의 array에서 인덱싱을 하기 위해선 2개의 인자를 입력해야 합니다.\n",
    "arr2[2,3]  # 2행3열의 요소"
   ]
  },
  {
   "cell_type": "code",
   "execution_count": 33,
   "id": "bd04f823",
   "metadata": {},
   "outputs": [],
   "source": [
    "#0행0열의 값 변경\n",
    "arr2[0,0]=90"
   ]
  },
  {
   "cell_type": "code",
   "execution_count": 34,
   "id": "3c2bab36",
   "metadata": {},
   "outputs": [
    {
     "data": {
      "text/plain": [
       "array([[90,  2,  3,  4],\n",
       "       [ 5,  6,  7,  8],\n",
       "       [ 9, 10, 11, 12]])"
      ]
     },
     "execution_count": 34,
     "metadata": {},
     "output_type": "execute_result"
    }
   ],
   "source": [
    "# 변경된 array\n",
    "arr2"
   ]
  },
  {
   "cell_type": "code",
   "execution_count": null,
   "id": "96001190",
   "metadata": {},
   "outputs": [],
   "source": []
  }
 ],
 "metadata": {
  "kernelspec": {
   "display_name": "Python 3 (ipykernel)",
   "language": "python",
   "name": "python3"
  },
  "language_info": {
   "codemirror_mode": {
    "name": "ipython",
    "version": 3
   },
   "file_extension": ".py",
   "mimetype": "text/x-python",
   "name": "python",
   "nbconvert_exporter": "python",
   "pygments_lexer": "ipython3",
   "version": "3.9.7"
  }
 },
 "nbformat": 4,
 "nbformat_minor": 5
}
