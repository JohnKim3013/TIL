{
 "cells": [
  {
   "cell_type": "code",
   "execution_count": 2,
   "id": "9310bc1e",
   "metadata": {},
   "outputs": [],
   "source": [
    "import numpy as np"
   ]
  },
  {
   "cell_type": "markdown",
   "id": "c99331a6",
   "metadata": {},
   "source": [
    "## Array boolean 인덱싱(Mask)\n",
    "\n",
    "- 다차원의 인덱싱을 응용하여 boolean 인덱싱\n",
    "- boolean인덱싱을 통해 만들어낸 array를 통해 원하는 행 또는 열의 값만 뽑아냄\n",
    "- 가리고 싶은 부분은 가리고, 원하는 요소만 꺼냄\n"
   ]
  },
  {
   "cell_type": "code",
   "execution_count": 3,
   "id": "bd627f4d",
   "metadata": {},
   "outputs": [
    {
     "data": {
      "text/plain": [
       "array(['Beomwoo', 'Beomwoo', 'Kim', 'Joan', 'Lee', 'Beomwoo', 'Park',\n",
       "       'Beomwoo'], dtype='<U7')"
      ]
     },
     "execution_count": 3,
     "metadata": {},
     "output_type": "execute_result"
    }
   ],
   "source": [
    "names = np.array(['Beomwoo','Beomwoo','Kim','Joan','Lee','Beomwoo',\n",
    "                  'Park','Beomwoo'])\n",
    "names"
   ]
  },
  {
   "cell_type": "code",
   "execution_count": 4,
   "id": "6f788059",
   "metadata": {},
   "outputs": [
    {
     "data": {
      "text/plain": [
       "(8,)"
      ]
     },
     "execution_count": 4,
     "metadata": {},
     "output_type": "execute_result"
    }
   ],
   "source": [
    "# names 크기 확인\n",
    "names.shape"
   ]
  },
  {
   "cell_type": "code",
   "execution_count": 5,
   "id": "021f96d1",
   "metadata": {},
   "outputs": [
    {
     "data": {
      "text/plain": [
       "array([[-0.59493614, -1.81645913,  0.39139576, -0.74358207],\n",
       "       [-0.03830686,  1.30438593,  0.64288495, -1.71735461],\n",
       "       [-0.66702193, -0.60055256, -0.77279132, -0.67898081],\n",
       "       [ 0.17444275, -1.66904272, -0.92236973,  0.621835  ],\n",
       "       [-0.40009638, -0.52883047, -2.04329296,  0.95061065],\n",
       "       [-0.26481888, -0.17308823,  0.05581522,  0.45541885],\n",
       "       [-0.12085206, -0.4950445 ,  0.16843266,  0.19210381],\n",
       "       [ 0.43798118,  0.53921949,  1.09935091, -0.20250988]])"
      ]
     },
     "execution_count": 5,
     "metadata": {},
     "output_type": "execute_result"
    }
   ],
   "source": [
    "# 8행4열의 실수 난수 배열 생성\n",
    "data = np.random.randn(8,4)\n",
    "data"
   ]
  },
  {
   "cell_type": "code",
   "execution_count": 6,
   "id": "3b152218",
   "metadata": {},
   "outputs": [
    {
     "data": {
      "text/plain": [
       "(8, 4)"
      ]
     },
     "execution_count": 6,
     "metadata": {},
     "output_type": "execute_result"
    }
   ],
   "source": [
    "# 배열 크기 확인\n",
    "data.shape"
   ]
  },
  {
   "cell_type": "code",
   "execution_count": 7,
   "id": "66ae093e",
   "metadata": {},
   "outputs": [
    {
     "data": {
      "text/plain": [
       "array([ True,  True, False, False, False,  True, False,  True])"
      ]
     },
     "execution_count": 7,
     "metadata": {},
     "output_type": "execute_result"
    }
   ],
   "source": [
    "# 요소가 Beomwoo인 항목에 대한 mask 생성\n",
    "names_mask_Beomwoo=(names == 'Beomwoo')\n",
    "names_mask_Beomwoo"
   ]
  },
  {
   "cell_type": "code",
   "execution_count": 8,
   "id": "1f488dcb",
   "metadata": {},
   "outputs": [
    {
     "data": {
      "text/plain": [
       "array([[-0.59493614, -1.81645913,  0.39139576, -0.74358207],\n",
       "       [-0.03830686,  1.30438593,  0.64288495, -1.71735461],\n",
       "       [-0.26481888, -0.17308823,  0.05581522,  0.45541885],\n",
       "       [ 0.43798118,  0.53921949,  1.09935091, -0.20250988]])"
      ]
     },
     "execution_count": 8,
     "metadata": {},
     "output_type": "execute_result"
    }
   ],
   "source": [
    "# 요소가 Beomwoo인 항목의 위치와 같은 행의 자료 가져오기\n",
    "data[names_mask_Beomwoo, :]\n",
    "# data[names_mask_Beomwoo] : 같은 결과"
   ]
  },
  {
   "cell_type": "code",
   "execution_count": 9,
   "id": "6f4e6d28",
   "metadata": {},
   "outputs": [
    {
     "data": {
      "text/plain": [
       "array([[-0.66702193, -0.60055256, -0.77279132, -0.67898081]])"
      ]
     },
     "execution_count": 9,
     "metadata": {},
     "output_type": "execute_result"
    }
   ],
   "source": [
    "# 요소가 Kim인 행의 데이터만 꺼내기\n",
    "data[names=='Kim',:]"
   ]
  },
  {
   "cell_type": "code",
   "execution_count": 10,
   "id": "f3fdef41",
   "metadata": {},
   "outputs": [
    {
     "data": {
      "text/plain": [
       "array([[-0.66702193, -0.60055256, -0.77279132, -0.67898081],\n",
       "       [-0.12085206, -0.4950445 ,  0.16843266,  0.19210381]])"
      ]
     },
     "execution_count": 10,
     "metadata": {},
     "output_type": "execute_result"
    }
   ],
   "source": [
    "# 논리 연산을 응용하여, 요소가 Kim 또는 Park인 행의 데이터만 꺼내기\n",
    "data[(names == 'Kim') | (names == 'Park')]"
   ]
  },
  {
   "cell_type": "markdown",
   "id": "f39695ee",
   "metadata": {},
   "source": [
    "**마스크 인덱싱 문제**\n",
    "\n",
    "- 문제1. data array에서 0번째 열이 0보다 작은 행 데이터 가져오기"
   ]
  },
  {
   "cell_type": "code",
   "execution_count": 12,
   "id": "fda078b8",
   "metadata": {},
   "outputs": [],
   "source": [
    "# 1단계. 마스크를 만든다.\n",
    "#       data array에서 0번째 열이 0보다 작은 요소의\n",
    "#       boolean 값을 선택하기 위하 마스크"
   ]
  },
  {
   "cell_type": "code",
   "execution_count": 13,
   "id": "d0dcd227",
   "metadata": {},
   "outputs": [
    {
     "data": {
      "text/plain": [
       "array([ True,  True,  True, False,  True,  True,  True, False])"
      ]
     },
     "execution_count": 13,
     "metadata": {},
     "output_type": "execute_result"
    }
   ],
   "source": [
    "data[:,0] < 0"
   ]
  },
  {
   "cell_type": "code",
   "execution_count": 14,
   "id": "f728620f",
   "metadata": {},
   "outputs": [
    {
     "data": {
      "text/plain": [
       "array([[-0.59493614, -1.81645913,  0.39139576, -0.74358207],\n",
       "       [-0.03830686,  1.30438593,  0.64288495, -1.71735461],\n",
       "       [-0.66702193, -0.60055256, -0.77279132, -0.67898081],\n",
       "       [-0.40009638, -0.52883047, -2.04329296,  0.95061065],\n",
       "       [-0.26481888, -0.17308823,  0.05581522,  0.45541885],\n",
       "       [-0.12085206, -0.4950445 ,  0.16843266,  0.19210381]])"
      ]
     },
     "execution_count": 14,
     "metadata": {},
     "output_type": "execute_result"
    }
   ],
   "source": [
    "# 2단계. 생성된 마스크를 이용하여 0번째 열의 값이 0보다 작은 행을 구한다.\n",
    "data[data[:,0]<0]"
   ]
  },
  {
   "cell_type": "code",
   "execution_count": 15,
   "id": "45b94f72",
   "metadata": {},
   "outputs": [],
   "source": [
    "# - 문제2. data array에서 0번째 열이 0보다 작은 행의 2, 3번째 열 데이터 가져오기"
   ]
  },
  {
   "cell_type": "code",
   "execution_count": 16,
   "id": "deb6d8d9",
   "metadata": {},
   "outputs": [
    {
     "data": {
      "text/plain": [
       "array([ True,  True,  True, False,  True,  True,  True, False])"
      ]
     },
     "execution_count": 16,
     "metadata": {},
     "output_type": "execute_result"
    }
   ],
   "source": [
    "# 1. 마스크 생성 : 0번째 열의 값이 0보다 작은 행의 2,3번째 열 값\n",
    "# data[data[:,0]<0][:, 2:4]\n",
    "# data[data[:,0]<0, 2:4]\n",
    "mask = data[:,0]<0\n",
    "mask"
   ]
  },
  {
   "cell_type": "code",
   "execution_count": 17,
   "id": "db7c0646",
   "metadata": {},
   "outputs": [
    {
     "data": {
      "text/plain": [
       "array([[ 0.39139576, -0.74358207],\n",
       "       [ 0.64288495, -1.71735461],\n",
       "       [-0.77279132, -0.67898081],\n",
       "       [-2.04329296,  0.95061065],\n",
       "       [ 0.05581522,  0.45541885],\n",
       "       [ 0.16843266,  0.19210381]])"
      ]
     },
     "execution_count": 17,
     "metadata": {},
     "output_type": "execute_result"
    }
   ],
   "source": [
    "# 2. 생성된 마스크로 데이터 가져오기\n",
    "data[mask, 2:4]"
   ]
  },
  {
   "cell_type": "markdown",
   "id": "dd79609c",
   "metadata": {},
   "source": [
    "## array에 적용되는 다양한 함수\n",
    "\n",
    "### 하나의 array에 적용되는 함수\n",
    "\n",
    "**random.randn(d0,d1,.., dn) : 표준정규난수 생성**\n",
    "\n",
    ": https://numpy.org/doc/stable/reference/random/legacy.html"
   ]
  },
  {
   "cell_type": "code",
   "execution_count": 19,
   "id": "9dde4dfc",
   "metadata": {},
   "outputs": [
    {
     "data": {
      "text/plain": [
       "array([[ 1.04431683, -0.824588  , -0.05716404],\n",
       "       [ 0.84754426, -0.35683171, -0.02107906],\n",
       "       [ 1.06435734,  0.18702228, -0.23734257],\n",
       "       [-0.15377634,  0.04144372,  1.19510269],\n",
       "       [ 0.59566772, -1.08111703, -0.43365364]])"
      ]
     },
     "execution_count": 19,
     "metadata": {},
     "output_type": "execute_result"
    }
   ],
   "source": [
    "# 5행3열의 실수난수 배열 생성\n",
    "data = np.random.randn(5,3)\n",
    "data"
   ]
  },
  {
   "cell_type": "markdown",
   "id": "55d85395",
   "metadata": {},
   "source": [
    "**수학 관련 함수**\n",
    "\n",
    "- 제곱근, 절대값, 삼각함수, 지수로그함수, 반올림함수 등\n",
    "\n",
    "https://numpy.org/doc/stable/reference/routines.math.html"
   ]
  },
  {
   "cell_type": "code",
   "execution_count": 20,
   "id": "1814c88f",
   "metadata": {},
   "outputs": [
    {
     "data": {
      "text/plain": [
       "array([[1.04431683, 0.824588  , 0.05716404],\n",
       "       [0.84754426, 0.35683171, 0.02107906],\n",
       "       [1.06435734, 0.18702228, 0.23734257],\n",
       "       [0.15377634, 0.04144372, 1.19510269],\n",
       "       [0.59566772, 1.08111703, 0.43365364]])"
      ]
     },
     "execution_count": 20,
     "metadata": {},
     "output_type": "execute_result"
    }
   ],
   "source": [
    "# 각 성분의 절대값 계산하기\n",
    "np.abs(data)"
   ]
  },
  {
   "cell_type": "code",
   "execution_count": 21,
   "id": "b7348257",
   "metadata": {},
   "outputs": [
    {
     "data": {
      "text/plain": [
       "array([[1.02191821, 0.90806828, 0.23909002],\n",
       "       [0.92062167, 0.59735392, 0.1451863 ],\n",
       "       [1.03167696, 0.43246073, 0.48717817],\n",
       "       [0.39214326, 0.2035773 , 1.09320753],\n",
       "       [0.77179513, 1.03976778, 0.65852383]])"
      ]
     },
     "execution_count": 21,
     "metadata": {},
     "output_type": "execute_result"
    }
   ],
   "source": [
    "# 각 성분의 제곱근 계산하기 : data**0.5\n",
    "np.sqrt(np.abs(data))"
   ]
  },
  {
   "cell_type": "code",
   "execution_count": 22,
   "id": "3e17b1b3",
   "metadata": {},
   "outputs": [
    {
     "data": {
      "text/plain": [
       "array([[1.09059765e+00, 6.79945363e-01, 3.26772713e-03],\n",
       "       [7.18331271e-01, 1.27328869e-01, 4.44326791e-04],\n",
       "       [1.13285655e+00, 3.49773335e-02, 5.63314952e-02],\n",
       "       [2.36471620e-02, 1.71758154e-03, 1.42827045e+00],\n",
       "       [3.54820034e-01, 1.16881403e+00, 1.88055478e-01]])"
      ]
     },
     "execution_count": 22,
     "metadata": {},
     "output_type": "execute_result"
    }
   ],
   "source": [
    "# 각 성분의 제곱 계산하기\n",
    "np.square(data)"
   ]
  },
  {
   "cell_type": "markdown",
   "id": "247d13d6",
   "metadata": {},
   "source": [
    "**지수함수**"
   ]
  },
  {
   "cell_type": "code",
   "execution_count": 23,
   "id": "2d40859c",
   "metadata": {},
   "outputs": [
    {
     "data": {
      "text/plain": [
       "array([[2.84145668, 0.43841558, 0.94443913],\n",
       "       [2.33390833, 0.69989027, 0.97914155],\n",
       "       [2.89897534, 1.20565415, 0.78872105],\n",
       "       [0.85746378, 1.04231449, 3.30389704],\n",
       "       [1.81424195, 0.3392164 , 0.64813671]])"
      ]
     },
     "execution_count": 23,
     "metadata": {},
     "output_type": "execute_result"
    }
   ],
   "source": [
    "# 각 성분을 자연대수 e의 지수로 삼은 값을 계산하기 : e^x\n",
    "np.exp(data)"
   ]
  },
  {
   "cell_type": "markdown",
   "id": "b0a531b2",
   "metadata": {},
   "source": [
    "**로그함수**\n",
    "\n",
    "- 자연로그 : log()\n",
    "- 상용로그 : log10()\n",
    "- 밑이2인 로그 : log2()"
   ]
  },
  {
   "cell_type": "code",
   "execution_count": 24,
   "id": "8015dad4",
   "metadata": {},
   "outputs": [
    {
     "data": {
      "text/plain": [
       "array([[ 0.04336292, -0.19287142, -2.8618303 ],\n",
       "       [-0.16541222, -1.03049101, -3.85947513],\n",
       "       [ 0.06237118, -1.67652752, -1.43825074],\n",
       "       [-1.87225609, -3.18341903,  0.17823212],\n",
       "       [-0.51807228,  0.07799479, -0.83550913]])"
      ]
     },
     "execution_count": 24,
     "metadata": {},
     "output_type": "execute_result"
    }
   ],
   "source": [
    "# 자연로그\n",
    "np.log(abs(data))"
   ]
  },
  {
   "cell_type": "code",
   "execution_count": 25,
   "id": "1375c965",
   "metadata": {},
   "outputs": [
    {
     "data": {
      "text/plain": [
       "array([[ 0.01883228, -0.08376299, -1.24287711],\n",
       "       [-0.07183761, -0.44753656, -1.67614875],\n",
       "       [ 0.02708746, -0.72810665, -0.62462436],\n",
       "       [-0.81311049, -1.38254132,  0.07740523],\n",
       "       [-0.22499593,  0.03387271, -0.36285701]])"
      ]
     },
     "execution_count": 25,
     "metadata": {},
     "output_type": "execute_result"
    }
   ],
   "source": [
    "# 상용로그\n",
    "np.log10(abs(data))"
   ]
  },
  {
   "cell_type": "code",
   "execution_count": 26,
   "id": "1b087f4c",
   "metadata": {},
   "outputs": [
    {
     "data": {
      "text/plain": [
       "array([[ 0.06255948, -0.27825464, -4.12874838],\n",
       "       [-0.23863939, -1.48668427, -5.56804562],\n",
       "       [ 0.0899826 , -2.41871794, -2.07495721],\n",
       "       [-2.70109457, -4.59270285,  0.25713459],\n",
       "       [-0.74742031,  0.1125227 , -1.20538488]])"
      ]
     },
     "execution_count": 26,
     "metadata": {},
     "output_type": "execute_result"
    }
   ],
   "source": [
    "# 밑이 2인 로그\n",
    "np.log2(abs(data))"
   ]
  },
  {
   "cell_type": "code",
   "execution_count": null,
   "id": "676d18fa",
   "metadata": {},
   "outputs": [],
   "source": []
  }
 ],
 "metadata": {
  "kernelspec": {
   "display_name": "Python 3 (ipykernel)",
   "language": "python",
   "name": "python3"
  },
  "language_info": {
   "codemirror_mode": {
    "name": "ipython",
    "version": 3
   },
   "file_extension": ".py",
   "mimetype": "text/x-python",
   "name": "python",
   "nbconvert_exporter": "python",
   "pygments_lexer": "ipython3",
   "version": "3.9.7"
  }
 },
 "nbformat": 4,
 "nbformat_minor": 5
}
