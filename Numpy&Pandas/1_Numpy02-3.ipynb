{
 "cells": [
  {
   "cell_type": "code",
   "execution_count": 2,
   "id": "2397f8a8",
   "metadata": {},
   "outputs": [],
   "source": [
    "import numpy as np"
   ]
  },
  {
   "cell_type": "code",
   "execution_count": 6,
   "id": "a681c464",
   "metadata": {},
   "outputs": [
    {
     "data": {
      "text/plain": [
       "array([[ 1,  2,  3,  4],\n",
       "       [ 5,  6,  7,  8],\n",
       "       [ 9, 10, 11, 12]])"
      ]
     },
     "execution_count": 6,
     "metadata": {},
     "output_type": "execute_result"
    }
   ],
   "source": [
    "arr2 = np.arange(1,13).reshape(3,4)\n",
    "arr2"
   ]
  },
  {
   "cell_type": "markdown",
   "id": "9d219bc2",
   "metadata": {},
   "source": [
    "**2차원배열명[행위치]**\n",
    "\n",
    ": 2차원 배열에서 지정한 행 전체가 선택됨"
   ]
  },
  {
   "cell_type": "code",
   "execution_count": 47,
   "id": "2380e2cc",
   "metadata": {},
   "outputs": [
    {
     "data": {
      "text/plain": [
       "array([-5,  1, 10,  9])"
      ]
     },
     "execution_count": 47,
     "metadata": {},
     "output_type": "execute_result"
    }
   ],
   "source": [
    "# 두번째 행(1행) 선택\n",
    "arr2[1]"
   ]
  },
  {
   "cell_type": "markdown",
   "id": "4f2e2296",
   "metadata": {},
   "source": [
    "**2차원배열명[:,열위치]**\n",
    "\n",
    ": 2차원 배열에서 지정한 열 전체 선택"
   ]
  },
  {
   "cell_type": "code",
   "execution_count": 42,
   "id": "c332856c",
   "metadata": {},
   "outputs": [
    {
     "data": {
      "text/plain": [
       "array([ 2,  1, 10])"
      ]
     },
     "execution_count": 42,
     "metadata": {},
     "output_type": "execute_result"
    }
   ],
   "source": [
    "arr2[:,1]"
   ]
  },
  {
   "cell_type": "markdown",
   "id": "862c235b",
   "metadata": {},
   "source": [
    "**2차원 배열의 특정 행을 지정해서 행 전체를 변경**"
   ]
  },
  {
   "cell_type": "code",
   "execution_count": 16,
   "id": "9c4e9f8b",
   "metadata": {},
   "outputs": [],
   "source": [
    "# 두번째 행 변경\n",
    "arr2[1]=np.array([-5,1,10,9])"
   ]
  },
  {
   "cell_type": "code",
   "execution_count": 17,
   "id": "b39f2f7e",
   "metadata": {},
   "outputs": [
    {
     "data": {
      "text/plain": [
       "array([[ 1,  2,  3,  4],\n",
       "       [-5,  1, 10,  9],\n",
       "       [ 9, 10, 11, 12]])"
      ]
     },
     "execution_count": 17,
     "metadata": {},
     "output_type": "execute_result"
    }
   ],
   "source": [
    "# 변경된 배열 확인\n",
    "arr2"
   ]
  },
  {
   "cell_type": "markdown",
   "id": "73becc37",
   "metadata": {},
   "source": [
    "**배열명[[행위치1, 행위치2, ..., 행위치n],[열위치1, 열위치2,...,열위치n]]**\n",
    "\n",
    ": 지정한 (행위치1, 열위치1), (행위치2, 열위치2), ... ,(행위치n, 열위치n)의 원소를 가져옴 "
   ]
  },
  {
   "cell_type": "code",
   "execution_count": 19,
   "id": "275abcd5",
   "metadata": {},
   "outputs": [
    {
     "data": {
      "text/plain": [
       "array([ 1, 10])"
      ]
     },
     "execution_count": 19,
     "metadata": {},
     "output_type": "execute_result"
    }
   ],
   "source": [
    "arr2[[0,2],[0,1]]"
   ]
  },
  {
   "cell_type": "markdown",
   "id": "8e15c2d0",
   "metadata": {},
   "source": [
    "### 배열명[조건]\n",
    "\n",
    ": 배열에서 조건을 만족하는 원소만 선택"
   ]
  },
  {
   "cell_type": "code",
   "execution_count": 20,
   "id": "ff60d3e6",
   "metadata": {},
   "outputs": [],
   "source": [
    "# -10 이상인 원소 선택"
   ]
  },
  {
   "cell_type": "code",
   "execution_count": 21,
   "id": "34497234",
   "metadata": {},
   "outputs": [
    {
     "data": {
      "text/plain": [
       "array([[False, False, False, False],\n",
       "       [False, False, False, False],\n",
       "       [False, False,  True,  True]])"
      ]
     },
     "execution_count": 21,
     "metadata": {},
     "output_type": "execute_result"
    }
   ],
   "source": [
    "arr2 > 10"
   ]
  },
  {
   "cell_type": "code",
   "execution_count": 22,
   "id": "a5676227",
   "metadata": {},
   "outputs": [
    {
     "data": {
      "text/plain": [
       "array([11, 12])"
      ]
     },
     "execution_count": 22,
     "metadata": {},
     "output_type": "execute_result"
    }
   ],
   "source": [
    "# 비교연산 결과를 인덱스로 지정\n",
    "arr2[arr2>10]"
   ]
  },
  {
   "cell_type": "code",
   "execution_count": 24,
   "id": "a27a17e2",
   "metadata": {},
   "outputs": [
    {
     "data": {
      "text/plain": [
       "array([ 2,  4, 10, 10, 12])"
      ]
     },
     "execution_count": 24,
     "metadata": {},
     "output_type": "execute_result"
    }
   ],
   "source": [
    "# 짝수인 원소 선택\n",
    "arr2[arr2 % 2 == 0]"
   ]
  },
  {
   "cell_type": "markdown",
   "id": "c712ab4c",
   "metadata": {},
   "source": [
    "### 1차원 배열의 슬라이싱(Slicing)\n",
    "\n",
    "**배열[시작위치:끝위치]**\n",
    "\n",
    ": 시작위치에서 끝위치-1 에 해당하는 배열의 원소를 반환"
   ]
  },
  {
   "cell_type": "code",
   "execution_count": 26,
   "id": "e02d04ef",
   "metadata": {},
   "outputs": [
    {
     "data": {
      "text/plain": [
       "array([0, 1, 2, 3, 4, 5, 6, 7, 8, 9])"
      ]
     },
     "execution_count": 26,
     "metadata": {},
     "output_type": "execute_result"
    }
   ],
   "source": [
    "arr1 = np.arange(10)\n",
    "arr1"
   ]
  },
  {
   "cell_type": "code",
   "execution_count": 27,
   "id": "dabd9072",
   "metadata": {},
   "outputs": [
    {
     "data": {
      "text/plain": [
       "array([3, 4, 5, 6, 7, 8])"
      ]
     },
     "execution_count": 27,
     "metadata": {},
     "output_type": "execute_result"
    }
   ],
   "source": [
    "# 3번째 요소부터 8번째 요소\n",
    "arr1[3:9]"
   ]
  },
  {
   "cell_type": "markdown",
   "id": "23999ade",
   "metadata": {},
   "source": [
    "**배열[start:end+1:step]**\n",
    "\n",
    "  : start에서 end 범위까지의 자료 중 step 간격의 인덱스를 지정"
   ]
  },
  {
   "cell_type": "code",
   "execution_count": 31,
   "id": "206e0ff6",
   "metadata": {},
   "outputs": [
    {
     "data": {
      "text/plain": [
       "array([3, 5, 7])"
      ]
     },
     "execution_count": 31,
     "metadata": {},
     "output_type": "execute_result"
    }
   ],
   "source": [
    "arr1[3:9:2]\n",
    "# arr1[[3,5,7]]"
   ]
  },
  {
   "cell_type": "code",
   "execution_count": 32,
   "id": "3a797f97",
   "metadata": {},
   "outputs": [
    {
     "data": {
      "text/plain": [
       "array([0, 2, 4, 6, 8])"
      ]
     },
     "execution_count": 32,
     "metadata": {},
     "output_type": "execute_result"
    }
   ],
   "source": [
    "arr1[:9:2]"
   ]
  },
  {
   "cell_type": "code",
   "execution_count": 35,
   "id": "81c80a46",
   "metadata": {},
   "outputs": [
    {
     "data": {
      "text/plain": [
       "array([3, 5, 7, 9])"
      ]
     },
     "execution_count": 35,
     "metadata": {},
     "output_type": "execute_result"
    }
   ],
   "source": [
    "arr1[3::2]"
   ]
  },
  {
   "cell_type": "code",
   "execution_count": 36,
   "id": "60c39c4a",
   "metadata": {},
   "outputs": [
    {
     "data": {
      "text/plain": [
       "array([0, 3, 6, 9])"
      ]
     },
     "execution_count": 36,
     "metadata": {},
     "output_type": "execute_result"
    }
   ],
   "source": [
    "arr1[::3]"
   ]
  },
  {
   "cell_type": "code",
   "execution_count": 37,
   "id": "95c09cab",
   "metadata": {},
   "outputs": [
    {
     "data": {
      "text/plain": [
       "array([9, 8, 7, 6, 5, 4, 3, 2, 1, 0])"
      ]
     },
     "execution_count": 37,
     "metadata": {},
     "output_type": "execute_result"
    }
   ],
   "source": [
    "arr1[::-1]"
   ]
  },
  {
   "cell_type": "code",
   "execution_count": 38,
   "id": "181606e6",
   "metadata": {},
   "outputs": [
    {
     "data": {
      "text/plain": [
       "array([9, 7, 5, 3, 1])"
      ]
     },
     "execution_count": 38,
     "metadata": {},
     "output_type": "execute_result"
    }
   ],
   "source": [
    "arr1[::-2]"
   ]
  },
  {
   "cell_type": "markdown",
   "id": "bd492a7f",
   "metadata": {},
   "source": [
    "**배열[:끝위치]**\n",
    "\n",
    ": 처음부터 '끝위치-1' 원소 반환"
   ]
  },
  {
   "cell_type": "code",
   "execution_count": 39,
   "id": "847bf583",
   "metadata": {},
   "outputs": [
    {
     "data": {
      "text/plain": [
       "array([0, 1, 2])"
      ]
     },
     "execution_count": 39,
     "metadata": {},
     "output_type": "execute_result"
    }
   ],
   "source": [
    "arr1[:3]"
   ]
  },
  {
   "cell_type": "markdown",
   "id": "9c32631f",
   "metadata": {},
   "source": [
    "**배열[시작위치:]**\n",
    "\n",
    ": 시작위치부터 마지막 원소까지 반환"
   ]
  },
  {
   "cell_type": "code",
   "execution_count": 40,
   "id": "130a2c9f",
   "metadata": {},
   "outputs": [
    {
     "data": {
      "text/plain": [
       "array([2, 3, 4, 5, 6, 7, 8, 9])"
      ]
     },
     "execution_count": 40,
     "metadata": {},
     "output_type": "execute_result"
    }
   ],
   "source": [
    "arr1[2:]"
   ]
  },
  {
   "cell_type": "markdown",
   "id": "c338f19f",
   "metadata": {},
   "source": [
    "**배열[:]**\n",
    "\n",
    ": 모든 원소 반환"
   ]
  },
  {
   "cell_type": "code",
   "execution_count": 48,
   "id": "ea6426b3",
   "metadata": {},
   "outputs": [
    {
     "data": {
      "text/plain": [
       "array([0, 1, 2, 3, 4, 5, 6, 7, 8, 9])"
      ]
     },
     "execution_count": 48,
     "metadata": {},
     "output_type": "execute_result"
    }
   ],
   "source": [
    "arr1[:]"
   ]
  },
  {
   "cell_type": "markdown",
   "id": "44c4dc3d",
   "metadata": {},
   "source": [
    "### 2차원 배열의 슬라이싱\n",
    "\n",
    "**배열[행시작위치:행끝위치, 열시작위치:열끝위치]**"
   ]
  },
  {
   "cell_type": "code",
   "execution_count": 49,
   "id": "c5d9657b",
   "metadata": {},
   "outputs": [
    {
     "data": {
      "text/plain": [
       "array([[ 1,  2,  3,  4],\n",
       "       [-5,  1, 10,  9],\n",
       "       [ 9, 10, 11, 12]])"
      ]
     },
     "execution_count": 49,
     "metadata": {},
     "output_type": "execute_result"
    }
   ],
   "source": [
    "arr2"
   ]
  },
  {
   "cell_type": "code",
   "execution_count": 54,
   "id": "da80b6a9",
   "metadata": {},
   "outputs": [
    {
     "data": {
      "text/plain": [
       "array([ 9, 10, 11, 12])"
      ]
     },
     "execution_count": 54,
     "metadata": {},
     "output_type": "execute_result"
    }
   ],
   "source": [
    "# 2행의 모든 요소 꺼내기\n",
    "arr2[2,:]"
   ]
  },
  {
   "cell_type": "code",
   "execution_count": 55,
   "id": "d7a19f7f",
   "metadata": {},
   "outputs": [
    {
     "data": {
      "text/plain": [
       "array([ 9, 10, 11, 12])"
      ]
     },
     "execution_count": 55,
     "metadata": {},
     "output_type": "execute_result"
    }
   ],
   "source": [
    "arr2[2]"
   ]
  },
  {
   "cell_type": "code",
   "execution_count": 56,
   "id": "86857ee5",
   "metadata": {},
   "outputs": [
    {
     "data": {
      "text/plain": [
       "array([ 4,  9, 12])"
      ]
     },
     "execution_count": 56,
     "metadata": {},
     "output_type": "execute_result"
    }
   ],
   "source": [
    "# 3열의 모든 요소 꺼내기\n",
    "arr2[:,3]"
   ]
  },
  {
   "cell_type": "code",
   "execution_count": 58,
   "id": "680e3707",
   "metadata": {},
   "outputs": [
    {
     "data": {
      "text/plain": [
       "array([[ 1, 10],\n",
       "       [10, 11]])"
      ]
     },
     "execution_count": 58,
     "metadata": {},
     "output_type": "execute_result"
    }
   ],
   "source": [
    "# 1~2행, 1~2열의 요소\n",
    "arr2[1:3, 1:3]"
   ]
  }
 ],
 "metadata": {
  "kernelspec": {
   "display_name": "Python 3 (ipykernel)",
   "language": "python",
   "name": "python3"
  },
  "language_info": {
   "codemirror_mode": {
    "name": "ipython",
    "version": 3
   },
   "file_extension": ".py",
   "mimetype": "text/x-python",
   "name": "python",
   "nbconvert_exporter": "python",
   "pygments_lexer": "ipython3",
   "version": "3.9.7"
  }
 },
 "nbformat": 4,
 "nbformat_minor": 5
}
