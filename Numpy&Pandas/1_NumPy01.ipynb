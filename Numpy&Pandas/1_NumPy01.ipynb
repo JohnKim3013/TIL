{
 "cells": [
  {
   "cell_type": "markdown",
   "id": "10a55347",
   "metadata": {},
   "source": [
    "# NumPy\n",
    "\n",
    "- Numerical Python\n",
    "- http://www.numpy.org\n",
    "\n",
    "\n",
    "- C언어로 구현된 파이썬 라이브러리(외부 라이브러리)\n",
    "- 고성능 수치계산을 위해 만들어진 파이썬 패키지\n",
    "- Vector, matrix, n-th array(ndarray) 등의 데이터 분석을 위한 패키지\n",
    "- 벡터 및 행렬 연산에 있어서 매우 편리한 기능을 제공\n",
    "\n",
    "\n",
    "- array(배열) 단위로 데이터를 관리하며 이에 대해 연산을 수행\n",
    "    - Numpy의 기본단위가 되는 array는 Dynamic type을 지원하지 않음. 한 타입만 지원\n",
    "    - 1차원의 Numpy array : Vector\n",
    "    - 2차원의 Numpy array : Matrix\n",
    "    - 3차원 이상의 Numpy array : Tensor\n",
    "    \n",
    "    \n",
    "- pandas와 matplotlib 기반"
   ]
  },
  {
   "cell_type": "markdown",
   "id": "06cbca19",
   "metadata": {},
   "source": [
    "**numpy 모듈 선언**"
   ]
  },
  {
   "cell_type": "code",
   "execution_count": 3,
   "id": "a1e99212",
   "metadata": {},
   "outputs": [],
   "source": [
    "import numpy as np"
   ]
  },
  {
   "cell_type": "code",
   "execution_count": 4,
   "id": "efed7f24",
   "metadata": {},
   "outputs": [
    {
     "data": {
      "text/plain": [
       "'1.20.3'"
      ]
     },
     "execution_count": 4,
     "metadata": {},
     "output_type": "execute_result"
    }
   ],
   "source": [
    "np.__version__"
   ]
  },
  {
   "cell_type": "markdown",
   "id": "c74e4d14",
   "metadata": {},
   "source": [
    "***참고. 선언된 모듈과 패키지의 영향 범위***\n",
    "\n",
    "- 파이썬(or IPython) 콘솔이나 주피터 노트북의 코드 셀에서 import로 불러온 모듈이나 패키지는 한 번만 선언하면 다시 선언하지 않고 이용\n",
    "- 주피터 노트북에서 새로운 노트북을 실행한 경우 다시 선언해야 함\n",
    "- 파이썬 코드를 파일로 저장할 때도 모듈과 패키지는 이를 사용하는 코드 앞에 한번만 선언하면 됨"
   ]
  },
  {
   "cell_type": "markdown",
   "id": "ec1e0072",
   "metadata": {},
   "source": [
    "# Array 정의 및 사용\n",
    "\n",
    "- 시퀀스 데이터(리스트, 튜플 등)로부터 배열 생성\n",
    "\n",
    "\n",
    "- https://numpy.org/doc/stable/reference/arrays.html"
   ]
  },
  {
   "cell_type": "markdown",
   "id": "494a59fe",
   "metadata": {},
   "source": [
    "### array(object, dtype, ... )    \n",
    "\n",
    "형식 : arr_obj = np.array(seq_data)    "
   ]
  },
  {
   "cell_type": "code",
   "execution_count": 5,
   "id": "2449471f",
   "metadata": {},
   "outputs": [
    {
     "data": {
      "text/plain": [
       "[1, 2, 3]"
      ]
     },
     "execution_count": 5,
     "metadata": {},
     "output_type": "execute_result"
    }
   ],
   "source": [
    "data1 = [1,2,3]\n",
    "data1"
   ]
  },
  {
   "cell_type": "code",
   "execution_count": 6,
   "id": "735f2d76",
   "metadata": {},
   "outputs": [
    {
     "data": {
      "text/plain": [
       "[1, 2, 3, 3.5, 5]"
      ]
     },
     "execution_count": 6,
     "metadata": {},
     "output_type": "execute_result"
    }
   ],
   "source": [
    "data2 = [1,2,3,3.5,5]\n",
    "data2\n"
   ]
  },
  {
   "cell_type": "code",
   "execution_count": 7,
   "id": "7dce1f0c",
   "metadata": {},
   "outputs": [
    {
     "data": {
      "text/plain": [
       "array([1, 2, 3])"
      ]
     },
     "execution_count": 7,
     "metadata": {},
     "output_type": "execute_result"
    }
   ],
   "source": [
    "# 리스트 객체를 이용하여 array 생성\n",
    "arr1 = np.array(data1)\n",
    "arr1"
   ]
  },
  {
   "cell_type": "markdown",
   "id": "c88fe657",
   "metadata": {},
   "source": [
    "**array 크기 확인 : shape**"
   ]
  },
  {
   "cell_type": "code",
   "execution_count": 9,
   "id": "55e6a1c4",
   "metadata": {},
   "outputs": [
    {
     "data": {
      "text/plain": [
       "(3,)"
      ]
     },
     "execution_count": 9,
     "metadata": {},
     "output_type": "execute_result"
    }
   ],
   "source": [
    "# array 크기 확인\n",
    "arr1.shape"
   ]
  },
  {
   "cell_type": "code",
   "execution_count": 10,
   "id": "da99b718",
   "metadata": {},
   "outputs": [
    {
     "data": {
      "text/plain": [
       "array([1, 2, 3, 4, 5])"
      ]
     },
     "execution_count": 10,
     "metadata": {},
     "output_type": "execute_result"
    }
   ],
   "source": [
    "# 리스트를 직접 입력하여 array 생성\n",
    "arr2 = np.array([1,2,3,4,5])\n",
    "arr2"
   ]
  },
  {
   "cell_type": "code",
   "execution_count": 11,
   "id": "26c7bcf9",
   "metadata": {},
   "outputs": [
    {
     "data": {
      "text/plain": [
       "(5,)"
      ]
     },
     "execution_count": 11,
     "metadata": {},
     "output_type": "execute_result"
    }
   ],
   "source": [
    "arr2.shape\n"
   ]
  },
  {
   "cell_type": "markdown",
   "id": "7080996c",
   "metadata": {},
   "source": [
    "**array 자료형 확인 : dtype**"
   ]
  },
  {
   "cell_type": "code",
   "execution_count": 12,
   "id": "0c8518c3",
   "metadata": {},
   "outputs": [
    {
     "data": {
      "text/plain": [
       "dtype('int32')"
      ]
     },
     "execution_count": 12,
     "metadata": {},
     "output_type": "execute_result"
    }
   ],
   "source": [
    "# array의 자료형 확인\n",
    "arr2.dtype"
   ]
  },
  {
   "cell_type": "code",
   "execution_count": 13,
   "id": "4e8efca8",
   "metadata": {},
   "outputs": [
    {
     "data": {
      "text/plain": [
       "array([1. , 2. , 3. , 3.5, 4. ])"
      ]
     },
     "execution_count": 13,
     "metadata": {},
     "output_type": "execute_result"
    }
   ],
   "source": [
    "arr3 = np.array([1, 2, 3, 3.5, 4])\n",
    "arr3"
   ]
  },
  {
   "cell_type": "code",
   "execution_count": 14,
   "id": "f102c6b3",
   "metadata": {},
   "outputs": [
    {
     "data": {
      "text/plain": [
       "dtype('float64')"
      ]
     },
     "execution_count": 14,
     "metadata": {},
     "output_type": "execute_result"
    }
   ],
   "source": [
    "arr3.dtype"
   ]
  },
  {
   "cell_type": "code",
   "execution_count": 15,
   "id": "d9b66874",
   "metadata": {},
   "outputs": [
    {
     "data": {
      "text/plain": [
       "(5,)"
      ]
     },
     "execution_count": 15,
     "metadata": {},
     "output_type": "execute_result"
    }
   ],
   "source": [
    "arr3.shape"
   ]
  },
  {
   "cell_type": "code",
   "execution_count": 16,
   "id": "848a3eb0",
   "metadata": {},
   "outputs": [
    {
     "data": {
      "text/plain": [
       "array([[1, 2, 3],\n",
       "       [4, 5, 6],\n",
       "       [7, 8, 9]])"
      ]
     },
     "execution_count": 16,
     "metadata": {},
     "output_type": "execute_result"
    }
   ],
   "source": [
    "arr4 = np.array([[1,2,3],[4,5,6],[7,8,9]])\n",
    "arr4"
   ]
  },
  {
   "cell_type": "code",
   "execution_count": 17,
   "id": "a188b699",
   "metadata": {},
   "outputs": [
    {
     "data": {
      "text/plain": [
       "(3, 3)"
      ]
     },
     "execution_count": 17,
     "metadata": {},
     "output_type": "execute_result"
    }
   ],
   "source": [
    "arr4.shape"
   ]
  },
  {
   "cell_type": "code",
   "execution_count": 18,
   "id": "36f4548b",
   "metadata": {},
   "outputs": [
    {
     "data": {
      "text/plain": [
       "dtype('int32')"
      ]
     },
     "execution_count": 18,
     "metadata": {},
     "output_type": "execute_result"
    }
   ],
   "source": [
    "arr4.dtype"
   ]
  },
  {
   "cell_type": "markdown",
   "id": "054e9d63",
   "metadata": {},
   "source": [
    "## numpy 자료형\n",
    "- 부호가 있는 정수 int(8, 16, 32, 64)\n",
    "- 부호가 없는 정수 uint(8 ,16, 32, 64)\n",
    "- 실수 float(16, 32, 64, 128)\n",
    "- 복소수 complex(64, 128, 256)\n",
    "- 불리언 bool\n",
    "- 문자열 string_\n",
    "- 파이썬 오프젝트 object\n",
    "- 유니코드 unicode_"
   ]
  },
  {
   "cell_type": "markdown",
   "id": "881a9386",
   "metadata": {},
   "source": [
    "##  범위를 지정해 배열 생성(1) : np.arange() 함수\n",
    "\n",
    "\n",
    "### 형식 : arr_obj = np.arange([start,] stop[, step])"
   ]
  },
  {
   "cell_type": "code",
   "execution_count": 20,
   "id": "0c9d9cc4",
   "metadata": {},
   "outputs": [
    {
     "data": {
      "text/plain": [
       "array([0, 1, 2, 3, 4, 5, 6, 7, 8, 9])"
      ]
     },
     "execution_count": 20,
     "metadata": {},
     "output_type": "execute_result"
    }
   ],
   "source": [
    "np.arange(10)"
   ]
  },
  {
   "cell_type": "code",
   "execution_count": 21,
   "id": "f8973757",
   "metadata": {},
   "outputs": [
    {
     "data": {
      "text/plain": [
       "array([1, 2, 3, 4])"
      ]
     },
     "execution_count": 21,
     "metadata": {},
     "output_type": "execute_result"
    }
   ],
   "source": [
    "np.arange(1,5)"
   ]
  },
  {
   "cell_type": "code",
   "execution_count": 22,
   "id": "4b29ba63",
   "metadata": {},
   "outputs": [
    {
     "data": {
      "text/plain": [
       "array([1, 3, 5, 7, 9])"
      ]
     },
     "execution_count": 22,
     "metadata": {},
     "output_type": "execute_result"
    }
   ],
   "source": [
    "np.arange(1,10, 2)"
   ]
  },
  {
   "cell_type": "code",
   "execution_count": 23,
   "id": "c3ba9eca",
   "metadata": {},
   "outputs": [
    {
     "data": {
      "text/plain": [
       "array([[ 0,  1,  2,  3],\n",
       "       [ 4,  5,  6,  7],\n",
       "       [ 8,  9, 10, 11]])"
      ]
     },
     "execution_count": 23,
     "metadata": {},
     "output_type": "execute_result"
    }
   ],
   "source": [
    "np.arange(12).reshape(3,4)"
   ]
  },
  {
   "cell_type": "code",
   "execution_count": 24,
   "id": "dee1451b",
   "metadata": {},
   "outputs": [
    {
     "data": {
      "text/plain": [
       "(3, 4)"
      ]
     },
     "execution_count": 24,
     "metadata": {},
     "output_type": "execute_result"
    }
   ],
   "source": [
    "b1 = np.arange(12).reshape(3,4)\n",
    "b1.shape"
   ]
  },
  {
   "cell_type": "markdown",
   "id": "76e97406",
   "metadata": {},
   "source": [
    "    reshape(m,n)의 m*n의 개수와 arange()로 생성되는 원소의 개수와 일치해야 함"
   ]
  },
  {
   "cell_type": "code",
   "execution_count": 25,
   "id": "7dc39fe9",
   "metadata": {},
   "outputs": [
    {
     "ename": "ValueError",
     "evalue": "cannot reshape array of size 7 into shape (3,3)",
     "output_type": "error",
     "traceback": [
      "\u001b[1;31m---------------------------------------------------------------------------\u001b[0m",
      "\u001b[1;31mValueError\u001b[0m                                Traceback (most recent call last)",
      "\u001b[1;32m~\\AppData\\Local\\Temp/ipykernel_24412/4117299374.py\u001b[0m in \u001b[0;36m<module>\u001b[1;34m\u001b[0m\n\u001b[1;32m----> 1\u001b[1;33m \u001b[0mb2\u001b[0m \u001b[1;33m=\u001b[0m \u001b[0mnp\u001b[0m\u001b[1;33m.\u001b[0m\u001b[0marange\u001b[0m\u001b[1;33m(\u001b[0m\u001b[1;36m7\u001b[0m\u001b[1;33m)\u001b[0m\u001b[1;33m.\u001b[0m\u001b[0mreshape\u001b[0m\u001b[1;33m(\u001b[0m\u001b[1;36m3\u001b[0m\u001b[1;33m,\u001b[0m\u001b[1;36m3\u001b[0m\u001b[1;33m)\u001b[0m\u001b[1;33m\u001b[0m\u001b[1;33m\u001b[0m\u001b[0m\n\u001b[0m",
      "\u001b[1;31mValueError\u001b[0m: cannot reshape array of size 7 into shape (3,3)"
     ]
    }
   ],
   "source": [
    "b2 = np.arange(7).reshape(3,3)"
   ]
  },
  {
   "cell_type": "code",
   "execution_count": 26,
   "id": "45f8b21f",
   "metadata": {},
   "outputs": [
    {
     "data": {
      "text/plain": [
       "array([[ 0,  1,  2],\n",
       "       [ 3,  4,  5],\n",
       "       [ 6,  7,  8],\n",
       "       [ 9, 10, 11]])"
      ]
     },
     "execution_count": 26,
     "metadata": {},
     "output_type": "execute_result"
    }
   ],
   "source": [
    "b3 = b1.reshape(4,3)\n",
    "b3"
   ]
  },
  {
   "cell_type": "markdown",
   "id": "fc79cd1b",
   "metadata": {},
   "source": [
    "## 범위를 지정해 배열생성(2) : linspace() 함수\n",
    " ### 형식 :arr.obj = np.linspace(start, stop[, num=50])"
   ]
  },
  {
   "cell_type": "code",
   "execution_count": 27,
   "id": "7f6b4a6e",
   "metadata": {},
   "outputs": [
    {
     "data": {
      "text/plain": [
       "array([ 1.,  2.,  3.,  4.,  5.,  6.,  7.,  8.,  9., 10.])"
      ]
     },
     "execution_count": 27,
     "metadata": {},
     "output_type": "execute_result"
    }
   ],
   "source": [
    "np.linspace(1,10,10)"
   ]
  },
  {
   "cell_type": "code",
   "execution_count": 28,
   "id": "463909c6",
   "metadata": {},
   "outputs": [
    {
     "data": {
      "text/plain": [
       "array([0.        , 0.16534698, 0.33069396, 0.49604095, 0.66138793,\n",
       "       0.82673491, 0.99208189, 1.15742887, 1.32277585, 1.48812284,\n",
       "       1.65346982, 1.8188168 , 1.98416378, 2.14951076, 2.31485774,\n",
       "       2.48020473, 2.64555171, 2.81089869, 2.97624567, 3.14159265])"
      ]
     },
     "execution_count": 28,
     "metadata": {},
     "output_type": "execute_result"
    }
   ],
   "source": [
    "np.linspace(0, np.pi, 20)"
   ]
  },
  {
   "cell_type": "code",
   "execution_count": 29,
   "id": "e5e9e150",
   "metadata": {},
   "outputs": [
    {
     "data": {
      "text/plain": [
       "array([ 1.        ,  1.18367347,  1.36734694,  1.55102041,  1.73469388,\n",
       "        1.91836735,  2.10204082,  2.28571429,  2.46938776,  2.65306122,\n",
       "        2.83673469,  3.02040816,  3.20408163,  3.3877551 ,  3.57142857,\n",
       "        3.75510204,  3.93877551,  4.12244898,  4.30612245,  4.48979592,\n",
       "        4.67346939,  4.85714286,  5.04081633,  5.2244898 ,  5.40816327,\n",
       "        5.59183673,  5.7755102 ,  5.95918367,  6.14285714,  6.32653061,\n",
       "        6.51020408,  6.69387755,  6.87755102,  7.06122449,  7.24489796,\n",
       "        7.42857143,  7.6122449 ,  7.79591837,  7.97959184,  8.16326531,\n",
       "        8.34693878,  8.53061224,  8.71428571,  8.89795918,  9.08163265,\n",
       "        9.26530612,  9.44897959,  9.63265306,  9.81632653, 10.        ])"
      ]
     },
     "execution_count": 29,
     "metadata": {},
     "output_type": "execute_result"
    }
   ],
   "source": [
    "np.linspace(1,10)"
   ]
  },
  {
   "cell_type": "markdown",
   "id": "e1572c4a",
   "metadata": {},
   "source": [
    "## 특별한 형태의 배열 생성\n",
    "### np.zeros(), np.ones(), np.eye() 함수"
   ]
  },
  {
   "cell_type": "markdown",
   "id": "bddde358",
   "metadata": {},
   "source": [
    "**1) 모든 요소가 0인 배열 생성 : np.zeros(shape, dtype=float, ...)**"
   ]
  },
  {
   "cell_type": "code",
   "execution_count": 33,
   "id": "71fac4f5",
   "metadata": {},
   "outputs": [
    {
     "data": {
      "text/plain": [
       "array([0, 0, 0, 0, 0, 0, 0, 0, 0, 0])"
      ]
     },
     "execution_count": 33,
     "metadata": {},
     "output_type": "execute_result"
    }
   ],
   "source": [
    "np.zeros(10, dtype=int)"
   ]
  },
  {
   "cell_type": "code",
   "execution_count": 31,
   "id": "7adff9dc",
   "metadata": {},
   "outputs": [
    {
     "data": {
      "text/plain": [
       "array([[0., 0., 0., 0., 0.],\n",
       "       [0., 0., 0., 0., 0.],\n",
       "       [0., 0., 0., 0., 0.]])"
      ]
     },
     "execution_count": 31,
     "metadata": {},
     "output_type": "execute_result"
    }
   ],
   "source": [
    "np.zeros((3,5))"
   ]
  },
  {
   "cell_type": "code",
   "execution_count": 34,
   "id": "c67ef347",
   "metadata": {},
   "outputs": [
    {
     "data": {
      "text/plain": [
       "array([[0., 0., 0.],\n",
       "       [0., 0., 0.],\n",
       "       [0., 0., 0.],\n",
       "       [0., 0., 0.],\n",
       "       [0., 0., 0.]])"
      ]
     },
     "execution_count": 34,
     "metadata": {},
     "output_type": "execute_result"
    }
   ],
   "source": [
    "np.zeros((3,5)).reshape(5,3)"
   ]
  },
  {
   "cell_type": "markdown",
   "id": "283e0643",
   "metadata": {},
   "source": [
    "**2) 모든 요소가 1인 배열 생성 : np.ones(shape, dtype=None)**"
   ]
  },
  {
   "cell_type": "code",
   "execution_count": 35,
   "id": "f902506d",
   "metadata": {},
   "outputs": [
    {
     "data": {
      "text/plain": [
       "array([1., 1., 1., 1., 1., 1., 1., 1., 1., 1.])"
      ]
     },
     "execution_count": 35,
     "metadata": {},
     "output_type": "execute_result"
    }
   ],
   "source": [
    "np.ones(10)"
   ]
  },
  {
   "cell_type": "code",
   "execution_count": 36,
   "id": "d468b0b2",
   "metadata": {},
   "outputs": [
    {
     "data": {
      "text/plain": [
       "array([[1, 1, 1, 1, 1],\n",
       "       [1, 1, 1, 1, 1],\n",
       "       [1, 1, 1, 1, 1]])"
      ]
     },
     "execution_count": 36,
     "metadata": {},
     "output_type": "execute_result"
    }
   ],
   "source": [
    "np.ones((3,5), dtype=int)"
   ]
  },
  {
   "cell_type": "markdown",
   "id": "f32cb4ec",
   "metadata": {},
   "source": [
    "**3) 대각요소가 1인 배열 생성1 : np.eye(n, m, k=K, dtype=float)**"
   ]
  },
  {
   "cell_type": "code",
   "execution_count": 37,
   "id": "d9e2fecc",
   "metadata": {},
   "outputs": [
    {
     "data": {
      "text/plain": [
       "array([[1., 0., 0.],\n",
       "       [0., 1., 0.],\n",
       "       [0., 0., 1.]])"
      ]
     },
     "execution_count": 37,
     "metadata": {},
     "output_type": "execute_result"
    }
   ],
   "source": [
    "# 3행 3열의 대각요소가 1인 행렬\n",
    "np.eye(3)"
   ]
  },
  {
   "cell_type": "code",
   "execution_count": 38,
   "id": "8311d230",
   "metadata": {},
   "outputs": [
    {
     "data": {
      "text/plain": [
       "array([[1., 0., 0., 0.],\n",
       "       [0., 1., 0., 0.],\n",
       "       [0., 0., 1., 0.]])"
      ]
     },
     "execution_count": 38,
     "metadata": {},
     "output_type": "execute_result"
    }
   ],
   "source": [
    "np.eye(3,4)"
   ]
  },
  {
   "cell_type": "code",
   "execution_count": 39,
   "id": "b2ca92a5",
   "metadata": {},
   "outputs": [
    {
     "data": {
      "text/plain": [
       "array([[0, 1, 0, 0],\n",
       "       [0, 0, 1, 0],\n",
       "       [0, 0, 0, 1]])"
      ]
     },
     "execution_count": 39,
     "metadata": {},
     "output_type": "execute_result"
    }
   ],
   "source": [
    "np.eye(3,4, k=1, dtype=int)"
   ]
  },
  {
   "cell_type": "code",
   "execution_count": 40,
   "id": "9b588318",
   "metadata": {},
   "outputs": [
    {
     "data": {
      "text/plain": [
       "array([[0., 0., 1., 0.],\n",
       "       [0., 0., 0., 1.],\n",
       "       [0., 0., 0., 0.]])"
      ]
     },
     "execution_count": 40,
     "metadata": {},
     "output_type": "execute_result"
    }
   ],
   "source": [
    "np.eye(3,4, k=2)"
   ]
  },
  {
   "cell_type": "code",
   "execution_count": 41,
   "id": "15d9b4e8",
   "metadata": {},
   "outputs": [
    {
     "data": {
      "text/plain": [
       "array([[0., 0., 0., 0.],\n",
       "       [1., 0., 0., 0.],\n",
       "       [0., 1., 0., 0.]])"
      ]
     },
     "execution_count": 41,
     "metadata": {},
     "output_type": "execute_result"
    }
   ],
   "source": [
    "np.eye(3,4, k=-1)"
   ]
  },
  {
   "cell_type": "markdown",
   "id": "848a2e8b",
   "metadata": {},
   "source": [
    "**4) 대각요소가 1인 배열 생성2 : np.identity(n, dtype=자료형)**"
   ]
  },
  {
   "cell_type": "code",
   "execution_count": 42,
   "id": "0e14a739",
   "metadata": {},
   "outputs": [
    {
     "data": {
      "text/plain": [
       "array([[1, 0, 0, 0, 0],\n",
       "       [0, 1, 0, 0, 0],\n",
       "       [0, 0, 1, 0, 0],\n",
       "       [0, 0, 0, 1, 0],\n",
       "       [0, 0, 0, 0, 1]])"
      ]
     },
     "execution_count": 42,
     "metadata": {},
     "output_type": "execute_result"
    }
   ],
   "source": [
    "# n*n 크기의 단위행렬 생성\n",
    "\n",
    "np.identity(5, dtype=int)"
   ]
  },
  {
   "cell_type": "markdown",
   "id": "b147c619",
   "metadata": {},
   "source": [
    "**5) 초기화되지 않은 배열 생성 : np.empty(shape, dtype=float)**"
   ]
  },
  {
   "cell_type": "code",
   "execution_count": 43,
   "id": "cbaea1d2",
   "metadata": {},
   "outputs": [
    {
     "data": {
      "text/plain": [
       "array([-7.01629565e-265,  1.16569515e-311,  1.16567396e-311,\n",
       "        2.67600403e+233])"
      ]
     },
     "execution_count": 43,
     "metadata": {},
     "output_type": "execute_result"
    }
   ],
   "source": [
    "# 초기화되지 않은 배열 생성\n",
    "np.empty(4)"
   ]
  },
  {
   "cell_type": "markdown",
   "id": "53a2eed0",
   "metadata": {},
   "source": [
    "**배열 생성 함수**"
   ]
  },
  {
   "cell_type": "code",
   "execution_count": 44,
   "id": "f2392d8f",
   "metadata": {},
   "outputs": [],
   "source": [
    "## 배열의 데이터 타입 변환:  astype() 함수"
   ]
  },
  {
   "cell_type": "markdown",
   "id": "5e09b6b7",
   "metadata": {},
   "source": [
    "**[형식]**\n",
    "\n",
    "num_arr = str_arr.astype(dtype)\n",
    "\n",
    "dtype : int, float, str"
   ]
  },
  {
   "cell_type": "markdown",
   "id": "6718ca1d",
   "metadata": {},
   "source": [
    "**NumPy 데이터 형식 : dtype**"
   ]
  },
  {
   "cell_type": "markdown",
   "id": "d467ed2c",
   "metadata": {},
   "source": [
    "**문자열 배열을 숫자형 배열로 변환**"
   ]
  },
  {
   "cell_type": "code",
   "execution_count": 45,
   "id": "de641867",
   "metadata": {},
   "outputs": [
    {
     "data": {
      "text/plain": [
       "array(['1.5', '0.62', '2', '3.14', '3.141592'], dtype='<U8')"
      ]
     },
     "execution_count": 45,
     "metadata": {},
     "output_type": "execute_result"
    }
   ],
   "source": [
    "np.array(['1.5', '0.62','2','3.14','3.141592'])"
   ]
  },
  {
   "cell_type": "code",
   "execution_count": 46,
   "id": "8b009a03",
   "metadata": {},
   "outputs": [
    {
     "data": {
      "text/plain": [
       "array([1.5     , 0.62    , 2.      , 3.14    , 3.141592])"
      ]
     },
     "execution_count": 46,
     "metadata": {},
     "output_type": "execute_result"
    }
   ],
   "source": [
    "str_a1 = np.array(['1.5', '0.62','2','3.14','3.141592'])\n",
    "# num_a1 = str_a1.astype('float32')\n",
    "num_a1 = str_a1.astype(float)\n",
    "num_a1"
   ]
  },
  {
   "cell_type": "code",
   "execution_count": 47,
   "id": "bf36bf89",
   "metadata": {},
   "outputs": [
    {
     "data": {
      "text/plain": [
       "dtype('<U8')"
      ]
     },
     "execution_count": 47,
     "metadata": {},
     "output_type": "execute_result"
    }
   ],
   "source": [
    "str_a1.dtype"
   ]
  },
  {
   "cell_type": "code",
   "execution_count": 48,
   "id": "37d4cc9a",
   "metadata": {},
   "outputs": [
    {
     "data": {
      "text/plain": [
       "dtype('float64')"
      ]
     },
     "execution_count": 48,
     "metadata": {},
     "output_type": "execute_result"
    }
   ],
   "source": [
    "num_a1.dtype"
   ]
  },
  {
   "cell_type": "code",
   "execution_count": 49,
   "id": "2844426e",
   "metadata": {},
   "outputs": [
    {
     "data": {
      "text/plain": [
       "array([1, 3, 5, 7, 9])"
      ]
     },
     "execution_count": 49,
     "metadata": {},
     "output_type": "execute_result"
    }
   ],
   "source": [
    "str_a2 = np.array(['1','3','5','7','9'])\n",
    "num_a2 = str_a2.astype(int)\n",
    "num_a2"
   ]
  },
  {
   "cell_type": "code",
   "execution_count": 50,
   "id": "fe898447",
   "metadata": {},
   "outputs": [
    {
     "data": {
      "text/plain": [
       "array([1., 3., 5., 7., 9.])"
      ]
     },
     "execution_count": 50,
     "metadata": {},
     "output_type": "execute_result"
    }
   ],
   "source": [
    "num_a3 = str_a2.astype(float)\n",
    "num_a3"
   ]
  },
  {
   "cell_type": "code",
   "execution_count": 51,
   "id": "e0598748",
   "metadata": {},
   "outputs": [
    {
     "ename": "ValueError",
     "evalue": "invalid literal for int() with base 10: '1.5'",
     "output_type": "error",
     "traceback": [
      "\u001b[1;31m---------------------------------------------------------------------------\u001b[0m",
      "\u001b[1;31mValueError\u001b[0m                                Traceback (most recent call last)",
      "\u001b[1;32m~\\AppData\\Local\\Temp/ipykernel_24412/2190938134.py\u001b[0m in \u001b[0;36m<module>\u001b[1;34m\u001b[0m\n\u001b[1;32m----> 1\u001b[1;33m \u001b[0mnum_a4\u001b[0m \u001b[1;33m=\u001b[0m \u001b[0mstr_a1\u001b[0m\u001b[1;33m.\u001b[0m\u001b[0mastype\u001b[0m\u001b[1;33m(\u001b[0m\u001b[0mint\u001b[0m\u001b[1;33m)\u001b[0m\u001b[1;33m\u001b[0m\u001b[1;33m\u001b[0m\u001b[0m\n\u001b[0m\u001b[0;32m      2\u001b[0m \u001b[0mnum_a4\u001b[0m\u001b[1;33m\u001b[0m\u001b[1;33m\u001b[0m\u001b[0m\n",
      "\u001b[1;31mValueError\u001b[0m: invalid literal for int() with base 10: '1.5'"
     ]
    }
   ],
   "source": [
    "num_a4 = str_a1.astype(int)\n",
    "num_a4"
   ]
  },
  {
   "cell_type": "markdown",
   "id": "cb6a3b63",
   "metadata": {},
   "source": [
    "**실수형 배열을 정수형 배열로 변환**"
   ]
  },
  {
   "cell_type": "code",
   "execution_count": 52,
   "id": "9a601f06",
   "metadata": {},
   "outputs": [
    {
     "data": {
      "text/plain": [
       "array([10.   , 21.   ,  0.549,  4.75 ,  5.98 ])"
      ]
     },
     "execution_count": 52,
     "metadata": {},
     "output_type": "execute_result"
    }
   ],
   "source": [
    "num_f1 = np.array([10, 21, 0.549, 4.75, 5.98])\n",
    "num_f1"
   ]
  },
  {
   "cell_type": "code",
   "execution_count": 53,
   "id": "070b3947",
   "metadata": {},
   "outputs": [
    {
     "data": {
      "text/plain": [
       "array([10, 21,  0,  4,  5])"
      ]
     },
     "execution_count": 53,
     "metadata": {},
     "output_type": "execute_result"
    }
   ],
   "source": [
    "num_i1 = num_f1.astype(int)\n",
    "num_i1"
   ]
  },
  {
   "cell_type": "code",
   "execution_count": 54,
   "id": "97f7ca37",
   "metadata": {},
   "outputs": [
    {
     "data": {
      "text/plain": [
       "dtype('float64')"
      ]
     },
     "execution_count": 54,
     "metadata": {},
     "output_type": "execute_result"
    }
   ],
   "source": [
    "num_f1.dtype"
   ]
  },
  {
   "cell_type": "code",
   "execution_count": 55,
   "id": "377a9960",
   "metadata": {},
   "outputs": [
    {
     "data": {
      "text/plain": [
       "dtype('int32')"
      ]
     },
     "execution_count": 55,
     "metadata": {},
     "output_type": "execute_result"
    }
   ],
   "source": [
    "num_i1.dtype"
   ]
  },
  {
   "cell_type": "markdown",
   "id": "fca89f6a",
   "metadata": {},
   "source": [
    "**숫자형 배열을 문자열 배열로 변환**"
   ]
  },
  {
   "cell_type": "code",
   "execution_count": 56,
   "id": "1b3c6345",
   "metadata": {},
   "outputs": [
    {
     "data": {
      "text/plain": [
       "array(['10.0', '21.0', '0.549', '4.75', '5.98'], dtype='<U32')"
      ]
     },
     "execution_count": 56,
     "metadata": {},
     "output_type": "execute_result"
    }
   ],
   "source": [
    "num_f1.astype('U')"
   ]
  },
  {
   "cell_type": "code",
   "execution_count": 57,
   "id": "1adaed48",
   "metadata": {},
   "outputs": [
    {
     "data": {
      "text/plain": [
       "array([b'10.0', b'21.0', b'0.549', b'4.75', b'5.98'], dtype='|S32')"
      ]
     },
     "execution_count": 57,
     "metadata": {},
     "output_type": "execute_result"
    }
   ],
   "source": [
    "num_f1.astype('S')"
   ]
  },
  {
   "cell_type": "markdown",
   "id": "aadaaecf",
   "metadata": {},
   "source": [
    "## 난수 배열 생성\n",
    "\n",
    " ### random.rand(), random.randint() 함수"
   ]
  },
  {
   "cell_type": "markdown",
   "id": "93fb9c71",
   "metadata": {},
   "source": [
    "**random.rand([d0, d1, ..., dn])**\n",
    "\n",
    "- [0과 1) 사이의 `실수` 난수를 갖는 NumPy 배열을 생성\n",
    "- rand(d0, d1, ..., dn)을 실행하면 (d0, d1, ..., dn)의 형태를 보이는 실수 난수 배열 생성"
   ]
  },
  {
   "cell_type": "code",
   "execution_count": 76,
   "id": "77ac60f8",
   "metadata": {},
   "outputs": [
    {
     "data": {
      "text/plain": [
       "array([[0.99895089, 0.82178723, 0.27270289, 0.32016759, 0.48081359],\n",
       "       [0.27286888, 0.90537135, 0.35803997, 0.32997729, 0.31287162]])"
      ]
     },
     "execution_count": 76,
     "metadata": {},
     "output_type": "execute_result"
    }
   ],
   "source": [
    "np.random.rand(10)\n",
    "np.random.rand(2,5)"
   ]
  },
  {
   "cell_type": "code",
   "execution_count": 69,
   "id": "27ce61d0",
   "metadata": {},
   "outputs": [
    {
     "data": {
      "text/plain": [
       "0.597179510670292"
      ]
     },
     "execution_count": 69,
     "metadata": {},
     "output_type": "execute_result"
    }
   ],
   "source": [
    "np.random.rand()"
   ]
  },
  {
   "cell_type": "code",
   "execution_count": 81,
   "id": "91a06ca7",
   "metadata": {},
   "outputs": [
    {
     "data": {
      "text/plain": [
       "array([[[0.4504022 , 0.14135284, 0.69692002, 0.82841838],\n",
       "        [0.68881921, 0.10978308, 0.02568114, 0.74562282],\n",
       "        [0.95273737, 0.07625635, 0.46904614, 0.35312786]],\n",
       "\n",
       "       [[0.0258751 , 0.93548584, 0.09377943, 0.40714322],\n",
       "        [0.79367847, 0.16172782, 0.51832498, 0.28151332],\n",
       "        [0.47713675, 0.38533089, 0.1652118 , 0.90648332]]])"
      ]
     },
     "execution_count": 81,
     "metadata": {},
     "output_type": "execute_result"
    }
   ],
   "source": [
    "np.random.rand(2,3,4)"
   ]
  },
  {
   "cell_type": "markdown",
   "id": "b2d4d0ab",
   "metadata": {},
   "source": [
    "**random.randint([low,] high [,size])**\n",
    "\n",
    "- [low, high) 사이의 `정수` 난수를 갖는 NumPy 배열을 생성\n",
    "- size : (d0, d1, ..., dn) 형식으로 입력"
   ]
  },
  {
   "cell_type": "code",
   "execution_count": 73,
   "id": "25201094",
   "metadata": {},
   "outputs": [
    {
     "data": {
      "text/plain": [
       "5"
      ]
     },
     "execution_count": 73,
     "metadata": {},
     "output_type": "execute_result"
    }
   ],
   "source": [
    "np.random.randint(10)"
   ]
  },
  {
   "cell_type": "code",
   "execution_count": 82,
   "id": "ebe22be6",
   "metadata": {},
   "outputs": [
    {
     "data": {
      "text/plain": [
       "19"
      ]
     },
     "execution_count": 82,
     "metadata": {},
     "output_type": "execute_result"
    }
   ],
   "source": [
    "np.random.randint(10, 20)"
   ]
  },
  {
   "cell_type": "code",
   "execution_count": 83,
   "id": "a4fed847",
   "metadata": {},
   "outputs": [
    {
     "data": {
      "text/plain": [
       "array([[14, 18, 15, 14, 16],\n",
       "       [16, 13, 18, 15, 10],\n",
       "       [12, 18, 11, 13, 10]])"
      ]
     },
     "execution_count": 83,
     "metadata": {},
     "output_type": "execute_result"
    }
   ],
   "source": [
    "np.random.randint(10, 20, size=(3,5))"
   ]
  },
  {
   "cell_type": "markdown",
   "id": "da7cf8d7",
   "metadata": {},
   "source": [
    "# Array 연산"
   ]
  },
  {
   "cell_type": "markdown",
   "id": "01af4dad",
   "metadata": {},
   "source": [
    "## 기본 연산(합, 차, 곱, 나눗셈 등) \n",
    "\n",
    ": 기본적으로 동일한 크기의 array 간 연산 수행"
   ]
  },
  {
   "cell_type": "code",
   "execution_count": 85,
   "id": "7d938877",
   "metadata": {},
   "outputs": [
    {
     "data": {
      "text/plain": [
       "array([[1, 3, 4],\n",
       "       [4, 3, 6]])"
      ]
     },
     "execution_count": 85,
     "metadata": {},
     "output_type": "execute_result"
    }
   ],
   "source": [
    "arr1 = np.array([[1,3,4],[4,3,6]])\n",
    "arr1"
   ]
  },
  {
   "cell_type": "code",
   "execution_count": 86,
   "id": "760a0e63",
   "metadata": {},
   "outputs": [
    {
     "data": {
      "text/plain": [
       "array([[10, 11, 12],\n",
       "       [13, 14, 15]])"
      ]
     },
     "execution_count": 86,
     "metadata": {},
     "output_type": "execute_result"
    }
   ],
   "source": [
    "arr2 = np.arange(10,16).reshape(2,3)\n",
    "arr2"
   ]
  },
  {
   "cell_type": "code",
   "execution_count": 87,
   "id": "71481c35",
   "metadata": {},
   "outputs": [
    {
     "name": "stdout",
     "output_type": "stream",
     "text": [
      "(2, 3) (2, 3)\n"
     ]
    }
   ],
   "source": [
    "print(arr1.shape, arr2.shape)"
   ]
  },
  {
   "cell_type": "markdown",
   "id": "239f600e",
   "metadata": {},
   "source": [
    "**배열의 합**"
   ]
  },
  {
   "cell_type": "code",
   "execution_count": 88,
   "id": "9eaf4022",
   "metadata": {},
   "outputs": [
    {
     "data": {
      "text/plain": [
       "array([[11, 14, 16],\n",
       "       [17, 17, 21]])"
      ]
     },
     "execution_count": 88,
     "metadata": {},
     "output_type": "execute_result"
    }
   ],
   "source": [
    "arr1 + arr2"
   ]
  },
  {
   "cell_type": "markdown",
   "id": "17a6840b",
   "metadata": {},
   "source": [
    "**배열의 차**"
   ]
  },
  {
   "cell_type": "code",
   "execution_count": 89,
   "id": "23f6ee12",
   "metadata": {},
   "outputs": [
    {
     "data": {
      "text/plain": [
       "array([[ -9,  -8,  -8],\n",
       "       [ -9, -11,  -9]])"
      ]
     },
     "execution_count": 89,
     "metadata": {},
     "output_type": "execute_result"
    }
   ],
   "source": [
    "arr1 - arr2"
   ]
  },
  {
   "cell_type": "markdown",
   "id": "4b23bc92",
   "metadata": {},
   "source": [
    "**배열의 곱**"
   ]
  },
  {
   "cell_type": "code",
   "execution_count": 90,
   "id": "dee8a523",
   "metadata": {},
   "outputs": [
    {
     "data": {
      "text/plain": [
       "array([[10, 33, 48],\n",
       "       [52, 42, 90]])"
      ]
     },
     "execution_count": 90,
     "metadata": {},
     "output_type": "execute_result"
    }
   ],
   "source": [
    "arr1 * arr2"
   ]
  },
  {
   "cell_type": "markdown",
   "id": "05bedafb",
   "metadata": {},
   "source": [
    "**배열의 나눗셈**"
   ]
  },
  {
   "cell_type": "code",
   "execution_count": 91,
   "id": "40fd367c",
   "metadata": {},
   "outputs": [
    {
     "data": {
      "text/plain": [
       "array([[0.1       , 0.27272727, 0.33333333],\n",
       "       [0.30769231, 0.21428571, 0.4       ]])"
      ]
     },
     "execution_count": 91,
     "metadata": {},
     "output_type": "execute_result"
    }
   ],
   "source": [
    "arr1 / arr2"
   ]
  },
  {
   "cell_type": "markdown",
   "id": "1c04540c",
   "metadata": {},
   "source": [
    "**배열의 스칼라 곱**"
   ]
  },
  {
   "cell_type": "code",
   "execution_count": 92,
   "id": "f3248ea2",
   "metadata": {},
   "outputs": [
    {
     "data": {
      "text/plain": [
       "array([[20, 22, 24],\n",
       "       [26, 28, 30]])"
      ]
     },
     "execution_count": 92,
     "metadata": {},
     "output_type": "execute_result"
    }
   ],
   "source": [
    "arr2*2"
   ]
  },
  {
   "cell_type": "markdown",
   "id": "6d5ae757",
   "metadata": {},
   "source": [
    "**배열의 비교 연산**"
   ]
  },
  {
   "cell_type": "code",
   "execution_count": 93,
   "id": "04e3e45d",
   "metadata": {},
   "outputs": [
    {
     "data": {
      "text/plain": [
       "array([[False, False, False],\n",
       "       [ True,  True,  True]])"
      ]
     },
     "execution_count": 93,
     "metadata": {},
     "output_type": "execute_result"
    }
   ],
   "source": [
    "arr2 > 12"
   ]
  },
  {
   "cell_type": "markdown",
   "id": "ac1d6444",
   "metadata": {},
   "source": [
    "## 배열의 Broadcasting \n",
    "- 서로 크기가 다른 array들의 연산이 가능하도록 배열을 자동적으로 변환하여 연산 수행"
   ]
  },
  {
   "cell_type": "code",
   "execution_count": 94,
   "id": "e1cbfea4",
   "metadata": {},
   "outputs": [
    {
     "data": {
      "text/plain": [
       "array([[1, 3, 4],\n",
       "       [4, 3, 6]])"
      ]
     },
     "execution_count": 94,
     "metadata": {},
     "output_type": "execute_result"
    }
   ],
   "source": [
    "arr1"
   ]
  },
  {
   "cell_type": "code",
   "execution_count": 95,
   "id": "46ca2b39",
   "metadata": {},
   "outputs": [
    {
     "data": {
      "text/plain": [
       "array([10, 11, 12])"
      ]
     },
     "execution_count": 95,
     "metadata": {},
     "output_type": "execute_result"
    }
   ],
   "source": [
    "arr3 = np.array([10,11,12])\n",
    "arr3"
   ]
  },
  {
   "cell_type": "code",
   "execution_count": 96,
   "id": "08403e07",
   "metadata": {},
   "outputs": [
    {
     "data": {
      "text/plain": [
       "((2, 3), (3,))"
      ]
     },
     "execution_count": 96,
     "metadata": {},
     "output_type": "execute_result"
    }
   ],
   "source": [
    "(arr1.shape, arr3.shape)"
   ]
  },
  {
   "cell_type": "code",
   "execution_count": 97,
   "id": "ae33f1a5",
   "metadata": {},
   "outputs": [
    {
     "data": {
      "text/plain": [
       "array([[11, 14, 16],\n",
       "       [14, 14, 18]])"
      ]
     },
     "execution_count": 97,
     "metadata": {},
     "output_type": "execute_result"
    }
   ],
   "source": [
    "arr1 + arr3"
   ]
  },
  {
   "cell_type": "code",
   "execution_count": 98,
   "id": "766d4df8",
   "metadata": {},
   "outputs": [
    {
     "data": {
      "text/plain": [
       "array([[ 1,  9, 16],\n",
       "       [16,  9, 36]], dtype=int32)"
      ]
     },
     "execution_count": 98,
     "metadata": {},
     "output_type": "execute_result"
    }
   ],
   "source": [
    "arr1 ** 2"
   ]
  },
  {
   "cell_type": "markdown",
   "id": "0ae3a074",
   "metadata": {},
   "source": [
    "**브로드캐스팅이 일어날 수 있는 조건**\n",
    "- 두 배열 간의 연산에서 최소한 하나의 배열의 차원이 1인 경우(0번 축이든 1번 축이든; 1행이든 1열이든)\n",
    "- 차원의 짝이 맞을 때(차원에 대해 축의 길이가 동일하면)"
   ]
  },
  {
   "cell_type": "markdown",
   "id": "98ec4e4f",
   "metadata": {},
   "source": [
    "출처: http://www.astroml.org/book_figures/appendix/fig_broadcast_visual.html"
   ]
  },
  {
   "cell_type": "code",
   "execution_count": null,
   "id": "a3a56d1d",
   "metadata": {},
   "outputs": [],
   "source": []
  }
 ],
 "metadata": {
  "kernelspec": {
   "display_name": "Python 3 (ipykernel)",
   "language": "python",
   "name": "python3"
  },
  "language_info": {
   "codemirror_mode": {
    "name": "ipython",
    "version": 3
   },
   "file_extension": ".py",
   "mimetype": "text/x-python",
   "name": "python",
   "nbconvert_exporter": "python",
   "pygments_lexer": "ipython3",
   "version": "3.9.7"
  }
 },
 "nbformat": 4,
 "nbformat_minor": 5
}
