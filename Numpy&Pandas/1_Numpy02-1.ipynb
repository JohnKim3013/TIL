{
 "cells": [
  {
   "cell_type": "markdown",
   "id": "9a55f5cb",
   "metadata": {},
   "source": [
    "# NumPy 연산과 인덱싱\n",
    " - 배열 연산\n",
    " - 통계,수학, 행렬 연산\n",
    " - 인덱싱과 슬라이싱"
   ]
  },
  {
   "cell_type": "markdown",
   "id": "d4fcc3c5",
   "metadata": {},
   "source": [
    "**numpy 모듈 선언**"
   ]
  },
  {
   "cell_type": "code",
   "execution_count": 1,
   "id": "df5954b0",
   "metadata": {},
   "outputs": [],
   "source": [
    "import numpy as np"
   ]
  },
  {
   "cell_type": "markdown",
   "id": "9ee98b91",
   "metadata": {},
   "source": [
    "# Array 연산\n",
    "\n",
    "## 기본 연산(합, 차, 곱, 나눗셈 등) \n",
    "\n",
    ": 기본적으로 동일한 크기의 array 간 연산 수행"
   ]
  },
  {
   "cell_type": "code",
   "execution_count": 2,
   "id": "d6b6a0de",
   "metadata": {},
   "outputs": [
    {
     "data": {
      "text/plain": [
       "array([[1, 3, 4],\n",
       "       [4, 3, 6]])"
      ]
     },
     "execution_count": 2,
     "metadata": {},
     "output_type": "execute_result"
    }
   ],
   "source": [
    "arr1 = np.array([[1,3,4], [4,3,6]])\n",
    "arr1"
   ]
  },
  {
   "cell_type": "code",
   "execution_count": 3,
   "id": "302fc2cb",
   "metadata": {},
   "outputs": [
    {
     "data": {
      "text/plain": [
       "array([[10, 11, 12],\n",
       "       [13, 14, 15]])"
      ]
     },
     "execution_count": 3,
     "metadata": {},
     "output_type": "execute_result"
    }
   ],
   "source": [
    "arr2 = np.array([[10,11,12],[13,14,15]])\n",
    "arr2"
   ]
  },
  {
   "cell_type": "markdown",
   "id": "9e4455dc",
   "metadata": {},
   "source": [
    "**배열의 합**"
   ]
  },
  {
   "cell_type": "code",
   "execution_count": 4,
   "id": "511fc83f",
   "metadata": {},
   "outputs": [
    {
     "data": {
      "text/plain": [
       "array([[11, 14, 16],\n",
       "       [17, 17, 21]])"
      ]
     },
     "execution_count": 4,
     "metadata": {},
     "output_type": "execute_result"
    }
   ],
   "source": [
    "arr1 + arr2"
   ]
  },
  {
   "cell_type": "markdown",
   "id": "6e5fe118",
   "metadata": {},
   "source": [
    "**배열의 차**"
   ]
  },
  {
   "cell_type": "code",
   "execution_count": 5,
   "id": "6eb64671",
   "metadata": {},
   "outputs": [
    {
     "data": {
      "text/plain": [
       "array([[ -9,  -8,  -8],\n",
       "       [ -9, -11,  -9]])"
      ]
     },
     "execution_count": 5,
     "metadata": {},
     "output_type": "execute_result"
    }
   ],
   "source": [
    "arr1 - arr2"
   ]
  },
  {
   "cell_type": "markdown",
   "id": "58fb1120",
   "metadata": {},
   "source": [
    "**배열의 곱**"
   ]
  },
  {
   "cell_type": "code",
   "execution_count": 6,
   "id": "5aef0ace",
   "metadata": {},
   "outputs": [
    {
     "data": {
      "text/plain": [
       "array([[10, 33, 48],\n",
       "       [52, 42, 90]])"
      ]
     },
     "execution_count": 6,
     "metadata": {},
     "output_type": "execute_result"
    }
   ],
   "source": [
    "arr1 * arr2"
   ]
  },
  {
   "cell_type": "markdown",
   "id": "b8f35742",
   "metadata": {},
   "source": [
    "**배열의 나눗셈**"
   ]
  },
  {
   "cell_type": "code",
   "execution_count": 7,
   "id": "a8899994",
   "metadata": {},
   "outputs": [
    {
     "data": {
      "text/plain": [
       "array([[0.1       , 0.27272727, 0.33333333],\n",
       "       [0.30769231, 0.21428571, 0.4       ]])"
      ]
     },
     "execution_count": 7,
     "metadata": {},
     "output_type": "execute_result"
    }
   ],
   "source": [
    "arr1 / arr2"
   ]
  },
  {
   "cell_type": "markdown",
   "id": "1c85d475",
   "metadata": {},
   "source": [
    "**배열의 스칼라 곱**"
   ]
  },
  {
   "cell_type": "code",
   "execution_count": 10,
   "id": "a036b0a0",
   "metadata": {},
   "outputs": [
    {
     "data": {
      "text/plain": [
       "array([[20, 22, 24],\n",
       "       [26, 28, 30]])"
      ]
     },
     "execution_count": 10,
     "metadata": {},
     "output_type": "execute_result"
    }
   ],
   "source": [
    "arr2 * 2"
   ]
  },
  {
   "cell_type": "markdown",
   "id": "ee4f7f1b",
   "metadata": {},
   "source": [
    "**배열의 비교 연산**"
   ]
  },
  {
   "cell_type": "code",
   "execution_count": 11,
   "id": "6eaad5a3",
   "metadata": {},
   "outputs": [
    {
     "data": {
      "text/plain": [
       "array([[False, False, False],\n",
       "       [False, False, False]])"
      ]
     },
     "execution_count": 11,
     "metadata": {},
     "output_type": "execute_result"
    }
   ],
   "source": [
    "arr2 > 20"
   ]
  },
  {
   "cell_type": "markdown",
   "id": "8f0af407",
   "metadata": {},
   "source": [
    "## 배열의 Broadcasting \n",
    "- 서로 크기가 다른 array들의 연산이 가능하도록 배열을 자동적으로 변환하여 연산 수행"
   ]
  },
  {
   "cell_type": "code",
   "execution_count": 12,
   "id": "1cdea355",
   "metadata": {},
   "outputs": [
    {
     "data": {
      "text/plain": [
       "array([[1, 3, 4],\n",
       "       [4, 3, 6]])"
      ]
     },
     "execution_count": 12,
     "metadata": {},
     "output_type": "execute_result"
    }
   ],
   "source": [
    "arr1"
   ]
  },
  {
   "cell_type": "code",
   "execution_count": 14,
   "id": "f4f5ad82",
   "metadata": {},
   "outputs": [
    {
     "data": {
      "text/plain": [
       "array([10, 11, 12])"
      ]
     },
     "execution_count": 14,
     "metadata": {},
     "output_type": "execute_result"
    }
   ],
   "source": [
    "arr3 = np.array([10,11,12])\n",
    "arr3"
   ]
  },
  {
   "cell_type": "code",
   "execution_count": 15,
   "id": "c4b01873",
   "metadata": {},
   "outputs": [
    {
     "data": {
      "text/plain": [
       "array([[11, 14, 16],\n",
       "       [14, 14, 18]])"
      ]
     },
     "execution_count": 15,
     "metadata": {},
     "output_type": "execute_result"
    }
   ],
   "source": [
    "arr1 + arr3"
   ]
  },
  {
   "cell_type": "code",
   "execution_count": 16,
   "id": "8b1398e1",
   "metadata": {},
   "outputs": [
    {
     "data": {
      "text/plain": [
       "array([[10, 30, 40],\n",
       "       [40, 30, 60]])"
      ]
     },
     "execution_count": 16,
     "metadata": {},
     "output_type": "execute_result"
    }
   ],
   "source": [
    "arr1 * 10"
   ]
  },
  {
   "cell_type": "code",
   "execution_count": 17,
   "id": "7a5d5b64",
   "metadata": {},
   "outputs": [
    {
     "data": {
      "text/plain": [
       "array([[ 1,  9, 16],\n",
       "       [16,  9, 36]], dtype=int32)"
      ]
     },
     "execution_count": 17,
     "metadata": {},
     "output_type": "execute_result"
    }
   ],
   "source": [
    "arr1 ** 2"
   ]
  },
  {
   "cell_type": "markdown",
   "id": "f4b437a9",
   "metadata": {},
   "source": [
    "**브로드캐스팅이 일어날 수 있는 조건**\n",
    "- 두 배열 간의 연산에서 최소한 하나의 배열의 차원이 1인 경우(0번 축이든 1번 축이든; 1행이든 1열이든)\n",
    "- 차원의 짝이 맞을 때(차원에 대해 축의 길이가 동일하면)"
   ]
  },
  {
   "cell_type": "markdown",
   "id": "5beb90f1",
   "metadata": {},
   "source": [
    "##  통계를 위한 연산\n",
    "\n",
    "- 배열의 합, 평균, 표준편차, 분산, 최소값, 최대값, 누적합, 누적곱 등\n",
    "- https://numpy.org/doc/stable/reference/routines.statistics.html"
   ]
  },
  {
   "cell_type": "code",
   "execution_count": 18,
   "id": "b8340ea0",
   "metadata": {},
   "outputs": [
    {
     "data": {
      "text/plain": [
       "array([0, 1, 2, 3, 4])"
      ]
     },
     "execution_count": 18,
     "metadata": {},
     "output_type": "execute_result"
    }
   ],
   "source": [
    "arr1 = np.arange(5)\n",
    "arr1"
   ]
  },
  {
   "cell_type": "code",
   "execution_count": 19,
   "id": "41d23b10",
   "metadata": {},
   "outputs": [
    {
     "data": {
      "text/plain": [
       "[10, 2.0]"
      ]
     },
     "execution_count": 19,
     "metadata": {},
     "output_type": "execute_result"
    }
   ],
   "source": [
    "# 합과 (산술)평균 : sum(), mean()\n",
    "[arr1.sum(), arr1.mean()]"
   ]
  },
  {
   "cell_type": "code",
   "execution_count": 20,
   "id": "de653e74",
   "metadata": {},
   "outputs": [
    {
     "data": {
      "text/plain": [
       "[1.4142135623730951, 2.0]"
      ]
     },
     "execution_count": 20,
     "metadata": {},
     "output_type": "execute_result"
    }
   ],
   "source": [
    "# 표준편차와 분산 : std(), var()\n",
    "[arr1.std(), arr1.var()]"
   ]
  },
  {
   "cell_type": "code",
   "execution_count": 21,
   "id": "20dc1d1e",
   "metadata": {},
   "outputs": [
    {
     "data": {
      "text/plain": [
       "[0, 4]"
      ]
     },
     "execution_count": 21,
     "metadata": {},
     "output_type": "execute_result"
    }
   ],
   "source": [
    "# 최소값과 최대값 : min(), max()\n",
    "[arr1.min(), arr1.max()]"
   ]
  },
  {
   "cell_type": "code",
   "execution_count": 22,
   "id": "e9e58194",
   "metadata": {},
   "outputs": [
    {
     "data": {
      "text/plain": [
       "array([1, 2, 3, 4])"
      ]
     },
     "execution_count": 22,
     "metadata": {},
     "output_type": "execute_result"
    }
   ],
   "source": [
    "# 누적합과 누적곱\n",
    "arr2 = np.arange(1,5)\n",
    "arr2"
   ]
  },
  {
   "cell_type": "code",
   "execution_count": 25,
   "id": "d7eafec3",
   "metadata": {},
   "outputs": [
    {
     "data": {
      "text/plain": [
       "array([ 1,  3,  6, 10], dtype=int32)"
      ]
     },
     "execution_count": 25,
     "metadata": {},
     "output_type": "execute_result"
    }
   ],
   "source": [
    "# 누적합\n",
    "arr2.cumsum()"
   ]
  },
  {
   "cell_type": "code",
   "execution_count": 26,
   "id": "3e957c7f",
   "metadata": {},
   "outputs": [
    {
     "data": {
      "text/plain": [
       "array([ 1,  2,  6, 24], dtype=int32)"
      ]
     },
     "execution_count": 26,
     "metadata": {},
     "output_type": "execute_result"
    }
   ],
   "source": [
    "# 누적곱 : cumprod()\n",
    "arr2.cumprod()"
   ]
  },
  {
   "cell_type": "markdown",
   "id": "7c2a1302",
   "metadata": {},
   "source": [
    "## 행렬 연산\n",
    "\n",
    "- 선형 대수(Linear algebra)를 위한 행렬(2차원 배열) 연산\n",
    "- 행렬 곱, 전치 행렬, 역행렬, 행렬식 등\n",
    "\n",
    "    - 행렬곱(matrix product)  : A.dot(B) 혹은 np.dot(A,B)\n",
    "    - 전치행렬(transpose matrix) : A.transpose() 혹은 np.transpose(A)\n",
    "    - 역행렬(inverse matrix) : np.linalg.inv(A)\n",
    "    - 행렬식(determinant) : np.linalg.det(A)"
   ]
  },
  {
   "cell_type": "code",
   "execution_count": 27,
   "id": "4488f238",
   "metadata": {},
   "outputs": [
    {
     "data": {
      "text/plain": [
       "array([[1, 2],\n",
       "       [3, 4]])"
      ]
     },
     "execution_count": 27,
     "metadata": {},
     "output_type": "execute_result"
    }
   ],
   "source": [
    "A = np.arange(1,5).reshape(2,2)\n",
    "# A = np.array([[1,2][3,4]])\n",
    "# A = np.array([1,2,3,4]).reshape(2,2)\n",
    "A"
   ]
  },
  {
   "cell_type": "code",
   "execution_count": null,
   "id": "02e8bd3c",
   "metadata": {},
   "outputs": [],
   "source": [
    "B = np."
   ]
  }
 ],
 "metadata": {
  "kernelspec": {
   "display_name": "Python 3 (ipykernel)",
   "language": "python",
   "name": "python3"
  },
  "language_info": {
   "codemirror_mode": {
    "name": "ipython",
    "version": 3
   },
   "file_extension": ".py",
   "mimetype": "text/x-python",
   "name": "python",
   "nbconvert_exporter": "python",
   "pygments_lexer": "ipython3",
   "version": "3.9.7"
  }
 },
 "nbformat": 4,
 "nbformat_minor": 5
}
